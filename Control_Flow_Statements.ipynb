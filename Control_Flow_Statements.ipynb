{
 "cells": [
  {
   "cell_type": "markdown",
   "source": [
    "Conditional Statements"
   ],
   "metadata": {}
  },
  {
   "cell_type": "code",
   "execution_count": 3,
   "source": [
    "if \"0\":\r\n",
    "    print(\"Hello World\")"
   ],
   "outputs": [
    {
     "output_type": "stream",
     "name": "stdout",
     "text": [
      "Hello World\n"
     ]
    }
   ],
   "metadata": {}
  },
  {
   "cell_type": "code",
   "execution_count": 4,
   "source": [
    "if 0:\r\n",
    "    print(\"Hello world\")"
   ],
   "outputs": [],
   "metadata": {}
  },
  {
   "cell_type": "markdown",
   "source": [
    "Falsy ifadeler\r\n",
    "\r\n",
    "````\r\n",
    "None\r\n",
    "[]\r\n",
    "()\r\n",
    "\"\"\r\n",
    "0\r\n",
    "0.0\r\n",
    "0j\r\n",
    "{}\r\n",
    "\r\n",
    " bunların dışında kalanlar truhy\r\n",
    "````"
   ],
   "metadata": {}
  },
  {
   "cell_type": "markdown",
   "source": [
    "if condition:\r\n",
    "    body  # the body code should start at indentation (four spaces)\r\n",
    "\r\n",
    "    If it evaluates to True, it executes the body of the if statement. If it evaluates to False, it skips the body."
   ],
   "metadata": {}
  },
  {
   "cell_type": "code",
   "execution_count": 5,
   "source": [
    "if True:\r\n",
    "    print('it is true')"
   ],
   "outputs": [
    {
     "output_type": "stream",
     "name": "stdout",
     "text": [
      "it is true\n"
     ]
    }
   ],
   "metadata": {}
  },
  {
   "cell_type": "code",
   "execution_count": 6,
   "source": [
    "empty_seat = 14\r\n",
    "\r\n",
    "if empty_seat > 3:  # in this case, 14>3=True, so the body will execute\r\n",
    "    print('there is still seat to sit')"
   ],
   "outputs": [
    {
     "output_type": "stream",
     "name": "stdout",
     "text": [
      "there is still seat to sit\n"
     ]
    }
   ],
   "metadata": {}
  },
  {
   "cell_type": "code",
   "execution_count": null,
   "source": [
    "# Which symbol is used immediately after the conditional expression line and before indent of the execution body in the if statements?\r\n",
    "\r\n",
    "Select one:\r\n",
    "\r\n",
    "colon"
   ],
   "outputs": [],
   "metadata": {}
  },
  {
   "cell_type": "code",
   "execution_count": 7,
   "source": [
    "\"a\" < \"b\""
   ],
   "outputs": [
    {
     "output_type": "execute_result",
     "data": {
      "text/plain": [
       "True"
      ]
     },
     "metadata": {},
     "execution_count": 7
    }
   ],
   "metadata": {}
  },
  {
   "cell_type": "code",
   "execution_count": 8,
   "source": [
    "\"4\" < \"39\""
   ],
   "outputs": [
    {
     "output_type": "execute_result",
     "data": {
      "text/plain": [
       "False"
      ]
     },
     "metadata": {},
     "execution_count": 8
    }
   ],
   "metadata": {}
  },
  {
   "cell_type": "code",
   "execution_count": 10,
   "source": [
    "ord(\"4\")"
   ],
   "outputs": [
    {
     "output_type": "execute_result",
     "data": {
      "text/plain": [
       "52"
      ]
     },
     "metadata": {},
     "execution_count": 10
    }
   ],
   "metadata": {}
  },
  {
   "cell_type": "code",
   "execution_count": 11,
   "source": [
    "ord(\"3\")"
   ],
   "outputs": [
    {
     "output_type": "execute_result",
     "data": {
      "text/plain": [
       "51"
      ]
     },
     "metadata": {},
     "execution_count": 11
    }
   ],
   "metadata": {}
  },
  {
   "cell_type": "markdown",
   "source": [
    "Do not use assignment operator = in comparison statements. In comparisons, you have to use == operator for equality."
   ],
   "metadata": {}
  },
  {
   "cell_type": "code",
   "execution_count": 12,
   "source": [
    "x = 6\r\n",
    "y = 9\r\n",
    "print (\"is x equal to y?                 :\" , x == y)\r\n",
    "print (\"is x not equal to y?             :\" , x != y)\r\n",
    "print (\"is x less than y?                :\" , x < y)\r\n",
    "print (\"is x greater than y?             :\" , x > y)\r\n",
    "print (\"is x less than or equal to y?    :\" , x <= y)\r\n",
    "print (\"is x greater than or equal to y? :\" , x >= y)"
   ],
   "outputs": [
    {
     "output_type": "stream",
     "name": "stdout",
     "text": [
      "is x equal to y?                 : False\n",
      "is x not equal to y?             : True\n",
      "is x less than y?                : True\n",
      "is x greater than y?             : False\n",
      "is x less than or equal to y?    : True\n",
      "is x greater than or equal to y? : False\n"
     ]
    }
   ],
   "metadata": {}
  },
  {
   "cell_type": "markdown",
   "source": [
    "True veya False döndüren operatörler:\r\n",
    "in, not, <, <=, >, >=, ==, !=, \r\n",
    "\r\n",
    "NOT: and ve or True veya False döndürmez"
   ],
   "metadata": {}
  },
  {
   "cell_type": "code",
   "execution_count": 13,
   "source": [
    "1 and 2 and 3"
   ],
   "outputs": [
    {
     "output_type": "execute_result",
     "data": {
      "text/plain": [
       "3"
      ]
     },
     "metadata": {},
     "execution_count": 13
    }
   ],
   "metadata": {}
  },
  {
   "cell_type": "markdown",
   "source": [
    "'if-else' Statements:"
   ],
   "metadata": {}
  },
  {
   "cell_type": "markdown",
   "source": [
    "else works like an if statement.\r\n",
    "\r\n",
    "if condition1:  \r\n",
    "    execute body1\r\n",
    "else : # if condition1 is not ensured execute body2\r\n",
    "    execute body2\r\n",
    "\r\n",
    " else doesn't require any condition and the body2 requires 4-space indentation here.\r\n",
    "\r\n"
   ],
   "metadata": {}
  },
  {
   "cell_type": "code",
   "execution_count": 16,
   "source": [
    "a = set(\"twelve plus one\")\r\n",
    "b = set(\"eleven plus two\")\r\n",
    "print(a)\r\n",
    "print(b)\r\n",
    "a == b"
   ],
   "outputs": [
    {
     "output_type": "stream",
     "name": "stdout",
     "text": [
      "{'w', 't', 'n', 'p', 'v', 's', 'u', 'o', 'l', ' ', 'e'}\n",
      "{'w', 't', 'p', ' ', 'v', 's', 'u', 'o', 'l', 'n', 'e'}\n"
     ]
    },
    {
     "output_type": "execute_result",
     "data": {
      "text/plain": [
       "True"
      ]
     },
     "metadata": {},
     "execution_count": 16
    }
   ],
   "metadata": {}
  },
  {
   "cell_type": "code",
   "execution_count": 18,
   "source": [
    "word = input(\"write a word: \")\r\n",
    "if word == \"Yes\":\r\n",
    "    print(\"You entered True\")\r\n"
   ],
   "outputs": [],
   "metadata": {}
  },
  {
   "cell_type": "code",
   "execution_count": 27,
   "source": [
    "word = input(\"write yes or no to\").title().strip() == \"Yes\"\r\n",
    "print(word)\r\n",
    "print(type(word))\r\n",
    "print(\"You entered\" , word)"
   ],
   "outputs": [
    {
     "output_type": "stream",
     "name": "stdout",
     "text": [
      "False\n",
      "<class 'bool'>\n",
      "You entered False\n"
     ]
    }
   ],
   "metadata": {}
  },
  {
   "cell_type": "code",
   "execution_count": 28,
   "source": [
    "course = 'clarusway'\r\n",
    "\r\n",
    "if course == \"clarusway\":\r\n",
    "    print(\"you guaranteed the job\")\r\n",
    "else:\r\n",
    "    print(\"think about it again\")"
   ],
   "outputs": [
    {
     "output_type": "stream",
     "name": "stdout",
     "text": [
      "you guaranteed the job\n"
     ]
    }
   ],
   "metadata": {}
  },
  {
   "cell_type": "code",
   "execution_count": 29,
   "source": [
    "number = 5\r\n",
    "if number <= 3:    \r\n",
    "    print(\"Number is smaller than or equal to 3\") \r\n",
    "else:  # Optional clause (you can only have one else)\r\n",
    "    print(\"Number is bigger than 3\")"
   ],
   "outputs": [
    {
     "output_type": "stream",
     "name": "stdout",
     "text": [
      "Number is bigger than 3\n"
     ]
    }
   ],
   "metadata": {}
  },
  {
   "cell_type": "markdown",
   "source": [
    "'if-elif-else' Statements:\r\n",
    "\r\n"
   ],
   "metadata": {}
  },
  {
   "cell_type": "markdown",
   "source": [
    "The elif statement is used when it requires to specify several conditions in our program.\r\n",
    "\r\n",
    "In Python you can deﬁne a series of conditionals using :\r\n",
    "\r\n",
    "if for the ﬁrst one,\r\n",
    "elif for the rest, up until the ﬁnal (optional),\r\n",
    "else for anything not caught by the other conditionals."
   ],
   "metadata": {}
  },
  {
   "cell_type": "markdown",
   "source": [
    "if condition1:\r\n",
    "    execute body1\r\n",
    "\r\n",
    "elif condition2:\r\n",
    "    execute body2\r\n",
    "\r\n",
    "else:\r\n",
    "    execute body3"
   ],
   "metadata": {}
  },
  {
   "cell_type": "code",
   "execution_count": 31,
   "source": [
    "number = int(input(\"write a number: \"))\r\n",
    "if number %2 == 0:\r\n",
    "    print(\"Girmiş olduğunuz sayı ({}) çifttir\".format(number))\r\n",
    "else:\r\n",
    "    print(\"Girmiş olduğunuz sayı ({}) tektir\".format(number))"
   ],
   "outputs": [
    {
     "output_type": "stream",
     "name": "stdout",
     "text": [
      "Girmiş olduğunuz sayı (6) çifttir\n"
     ]
    }
   ],
   "metadata": {}
  },
  {
   "cell_type": "code",
   "execution_count": 2,
   "source": [
    "num1 =float(input(\"write the first number: \"))\r\n",
    "num2 =float(input(\"write the second number: \"))\r\n",
    "\r\n",
    "if num1 > num2:\r\n",
    "    larger = num1\r\n",
    "else: \r\n",
    "    larger = num2\r\n",
    "\r\n",
    "print(\"The larger number is\", larger)"
   ],
   "outputs": [
    {
     "output_type": "stream",
     "name": "stdout",
     "text": [
      "The larger number is 9.0\n"
     ]
    }
   ],
   "metadata": {}
  },
  {
   "cell_type": "code",
   "execution_count": 5,
   "source": [
    "num1 =float(input(\"write the first number: \"))\r\n",
    "num2 =float(input(\"write the second number: \"))\r\n",
    "\r\n",
    "if num1 > num2:\r\n",
    "    print(\"The larger number is\", num1)\r\n",
    "else: \r\n",
    "    print(\"The larger number is\", num2)"
   ],
   "outputs": [
    {
     "output_type": "stream",
     "name": "stdout",
     "text": [
      "The larger number is 8.0\n"
     ]
    }
   ],
   "metadata": {}
  },
  {
   "cell_type": "code",
   "execution_count": 6,
   "source": [
    "bool_value = False\r\n",
    "if bool_value:\r\n",
    "    print(\"Yes\")\r\n",
    "else:\r\n",
    "    print(\"No\")"
   ],
   "outputs": [
    {
     "output_type": "stream",
     "name": "stdout",
     "text": [
      "No\n"
     ]
    }
   ],
   "metadata": {}
  },
  {
   "cell_type": "code",
   "execution_count": 9,
   "source": [
    "items =(10, 20)\r\n",
    "x, y = items\r\n",
    "x\r\n"
   ],
   "outputs": [
    {
     "output_type": "execute_result",
     "data": {
      "text/plain": [
       "20"
      ]
     },
     "metadata": {},
     "execution_count": 9
    }
   ],
   "metadata": {}
  },
  {
   "cell_type": "code",
   "execution_count": 10,
   "source": [
    "y"
   ],
   "outputs": [
    {
     "output_type": "execute_result",
     "data": {
      "text/plain": [
       "20"
      ]
     },
     "metadata": {},
     "execution_count": 10
    }
   ],
   "metadata": {}
  },
  {
   "cell_type": "code",
   "execution_count": 11,
   "source": [
    "a, _, b, _ = (10, 20, 30, 40)\r\n",
    "a"
   ],
   "outputs": [
    {
     "output_type": "execute_result",
     "data": {
      "text/plain": [
       "10"
      ]
     },
     "metadata": {},
     "execution_count": 11
    }
   ],
   "metadata": {}
  },
  {
   "cell_type": "code",
   "execution_count": 12,
   "source": [
    "print(a, b, _)"
   ],
   "outputs": [
    {
     "output_type": "stream",
     "name": "stdout",
     "text": [
      "10 30 40\n"
     ]
    }
   ],
   "metadata": {}
  },
  {
   "cell_type": "code",
   "execution_count": 14,
   "source": [
    "x, y, *z = (11, 22, 33, 44, 55)\r\n",
    "z"
   ],
   "outputs": [
    {
     "output_type": "execute_result",
     "data": {
      "text/plain": [
       "[33, 44, 55]"
      ]
     },
     "metadata": {},
     "execution_count": 14
    }
   ],
   "metadata": {}
  },
  {
   "cell_type": "code",
   "execution_count": null,
   "source": [
    "x, y, *_ = (11, 22, 33, 44, 55, 66, 77"
   ],
   "outputs": [],
   "metadata": {}
  },
  {
   "cell_type": "code",
   "execution_count": 17,
   "source": [
    "x\r\n"
   ],
   "outputs": [
    {
     "output_type": "execute_result",
     "data": {
      "text/plain": [
       "11"
      ]
     },
     "metadata": {},
     "execution_count": 17
    }
   ],
   "metadata": {}
  },
  {
   "cell_type": "code",
   "execution_count": 18,
   "source": [
    "y"
   ],
   "outputs": [
    {
     "output_type": "execute_result",
     "data": {
      "text/plain": [
       "22"
      ]
     },
     "metadata": {},
     "execution_count": 18
    }
   ],
   "metadata": {}
  },
  {
   "cell_type": "code",
   "execution_count": 22,
   "source": [
    "_"
   ],
   "outputs": [
    {
     "output_type": "execute_result",
     "data": {
      "text/plain": [
       "40"
      ]
     },
     "metadata": {},
     "execution_count": 22
    }
   ],
   "metadata": {}
  },
  {
   "cell_type": "code",
   "execution_count": 33,
   "source": [
    "x, y, *z, u = (11, 22, 33, 44, 55, 66, 77)"
   ],
   "outputs": [],
   "metadata": {}
  },
  {
   "cell_type": "code",
   "execution_count": 34,
   "source": [
    "print(x, y, z, u)"
   ],
   "outputs": [
    {
     "output_type": "stream",
     "name": "stdout",
     "text": [
      "11 22 [33, 44, 55, 66] 77\n"
     ]
    }
   ],
   "metadata": {}
  },
  {
   "cell_type": "code",
   "execution_count": 24,
   "source": [],
   "outputs": [
    {
     "output_type": "execute_result",
     "data": {
      "text/plain": [
       "22"
      ]
     },
     "metadata": {},
     "execution_count": 24
    }
   ],
   "metadata": {}
  },
  {
   "cell_type": "code",
   "execution_count": null,
   "source": [],
   "outputs": [],
   "metadata": {}
  }
 ],
 "metadata": {
  "orig_nbformat": 4,
  "language_info": {
   "name": "python",
   "version": "3.8.8",
   "mimetype": "text/x-python",
   "codemirror_mode": {
    "name": "ipython",
    "version": 3
   },
   "pygments_lexer": "ipython3",
   "nbconvert_exporter": "python",
   "file_extension": ".py"
  },
  "kernelspec": {
   "name": "python3",
   "display_name": "Python 3.8.8 64-bit ('base': conda)"
  },
  "interpreter": {
   "hash": "37eb40c3388cfde35488e2d005b0d69ca91ddeff8a429754d4da636d3f888e5e"
  }
 },
 "nbformat": 4,
 "nbformat_minor": 2
}