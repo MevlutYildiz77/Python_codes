{
 "cells": [
  {
   "cell_type": "code",
   "execution_count": null,
   "source": [
    "ps4_price = 99\r\n",
    "saved_amount = int(input(\"Please enter your saved amount: \"))\r\n",
    "if saved_amount <= ps4_price:\r\n",
    "    print(\"You must save more, keep saving!\")\r\n",
    "elif saved_amount > ps4_price//2:\r\n",
    "    print(\"You saved more than half, keep saving!\")\r\n",
    "elif saved_amount > ps4_price: \r\n",
    "    print(\"Yippee! You can buy your PS4\")\r\n"
   ],
   "outputs": [],
   "metadata": {}
  },
  {
   "cell_type": "code",
   "execution_count": null,
   "source": [
    "math_mark = int(input(\"Please enter the mark: \"))\r\n",
    "if math_mark >= 85:\r\n",
    "    print(\"A (Excellent)\")\r\n",
    "elif math_mark >= 70:\r\n",
    "    print(\"B (Good)\")\r\n",
    "elif math_mark >= 60:\r\n",
    "    print(\"C (Medium)\")\r\n",
    "elif math_mark >= 45:\r\n",
    "    print(\"D (Not Bad)\")\r\n",
    "elif math_mark < 44:\r\n",
    "    print(\"F (Failed)\")"
   ],
   "outputs": [],
   "metadata": {}
  },
  {
   "cell_type": "code",
   "execution_count": null,
   "source": [
    "a = 998\r\n",
    "if a >= 999 :\r\n",
    "    print(a ** 0)  \r\n",
    "\r\n",
    "else :\r\n",
    "    print(a * 2)"
   ],
   "outputs": [],
   "metadata": {}
  },
  {
   "cell_type": "code",
   "execution_count": null,
   "source": [
    "max = a\r\n",
    "max = b\r\n",
    "if b > max:\r\n",
    "    print(max)\r\n",
    "max = b\r\n",
    "   "
   ],
   "outputs": [],
   "metadata": {}
  },
  {
   "cell_type": "code",
   "execution_count": 76,
   "source": [
    "weekdays = ['Monday', 'Tuesday', 'Wednesday', 'Thursday', 'Friday']\r\n",
    "for day in range(len(weekdays)):\r\n",
    "    print('Day', day+1, ':', weekdays[day])"
   ],
   "outputs": [
    {
     "output_type": "stream",
     "name": "stdout",
     "text": [
      "Day 1 : Monday\n",
      "Day 2 : Tuesday\n",
      "Day 3 : Wednesday\n",
      "Day 4 : Thursday\n",
      "Day 5 : Friday\n"
     ]
    }
   ],
   "metadata": {}
  },
  {
   "cell_type": "code",
   "execution_count": null,
   "source": [
    "--------------------------------"
   ],
   "outputs": [],
   "metadata": {}
  },
  {
   "cell_type": "code",
   "execution_count": null,
   "source": [
    "a = 49\r\n",
    "while a <= 62:\r\n",
    "    print(a)\r\n",
    "    a += 5"
   ],
   "outputs": [],
   "metadata": {}
  },
  {
   "cell_type": "code",
   "execution_count": null,
   "source": [
    "a = 49\r\n",
    "while a % 2 != 0:\r\n",
    "    print(a)\r\n",
    "    a += 5"
   ],
   "outputs": [],
   "metadata": {}
  },
  {
   "cell_type": "code",
   "execution_count": null,
   "source": [
    "a = 49\r\n",
    "while a > 10:\r\n",
    "    print(a)\r\n",
    "    a += 5"
   ],
   "outputs": [],
   "metadata": {}
  },
  {
   "cell_type": "code",
   "execution_count": null,
   "source": [
    "---------------------------"
   ],
   "outputs": [],
   "metadata": {}
  },
  {
   "cell_type": "code",
   "execution_count": 2,
   "source": [
    "month =  \"March\"\r\n",
    "spring = \"September, April, January\"\r\n",
    "autumn = \"March, October, July\"\r\n",
    "\r\n",
    "if (month in spring) or (month in autumn):\r\n",
    "    if month in autumn:\r\n",
    "        print(\"This is a autumn month\")\r\n",
    "    else:\r\n",
    "        print(\"This is an spring month\")\r\n",
    "else:\r\n",
    "    print(\"This month is not categorized\")"
   ],
   "outputs": [
    {
     "output_type": "stream",
     "name": "stdout",
     "text": [
      "This is a autumn month\n"
     ]
    }
   ],
   "metadata": {}
  },
  {
   "cell_type": "code",
   "execution_count": 6,
   "source": [
    "#Write a program that takes a number from the user, assigns it to the variable (number), and prints the squares of all numbers between 0 and the number (not included) entered by the user.\r\n",
    "\r\n",
    "#Note: Write the program with while statement.\r\n",
    "number = int(input('Please enter a number: '))\r\n",
    "#number2 = int(input('Please enter a number a: '))\r\n",
    "number3 = 0\r\n",
    "while number3 < number:\r\n",
    "    print(number3**number3)\r\n",
    "    number3 += 1\r\n",
    "    break"
   ],
   "outputs": [
    {
     "output_type": "stream",
     "name": "stdout",
     "text": [
      "Please enter a number: 7\n",
      "1\n"
     ]
    }
   ],
   "metadata": {}
  },
  {
   "cell_type": "code",
   "execution_count": 9,
   "source": [
    "number = int(input('Please enter a number: '))\r\n",
    "a = 0\r\n",
    "\r\n",
    "while a < number:\r\n",
    "    #print('square of {} is : {}'.format(a, a**2))\r\n",
    "    print( a**2)\r\n",
    "    a+=1"
   ],
   "outputs": [
    {
     "output_type": "stream",
     "name": "stdout",
     "text": [
      "Please enter a number: 6\n",
      "0\n",
      "1\n",
      "4\n",
      "9\n",
      "16\n",
      "25\n"
     ]
    }
   ],
   "metadata": {}
  },
  {
   "cell_type": "code",
   "execution_count": 52,
   "source": [
    "# Write a program that prints each item and its corresponding type from the following list.\r\n",
    "\r\n",
    "sample_list = [{\"section\":5, \"topic\":2}, 'clarusway', [1, 4], 2020, 3.14, 1+618j, False, (10, 20)]\r\n",
    "\r\n",
    "#One of the output line as an example: The type of clarusway is <class 'str'>.\r\n",
    "#Note: Write the program with for statement.\r\n",
    "for i in sample_list:\r\n",
    "    print(\"The type of clarusway is\" '+' (type(sample_list[0]))\r\n",
    "    #print(type(sample_list[0]))\r\n",
    "    #print(type(sample_list[1]))\r\n",
    "    #print(type(sample_list[2]))\r\n",
    "    #print(type(sample_list[3]))\r\n",
    "    #print(type(sample_list[4]))\r\n",
    "    #print(type(sample_list[5]))\r\n",
    "    #print(type(sample_list[6]))\r\n",
    "    # print(type(sample_list[7]))"
   ],
   "outputs": [
    {
     "output_type": "error",
     "ename": "SyntaxError",
     "evalue": "unexpected EOF while parsing (<ipython-input-52-8d04e47346a3>, line 16)",
     "traceback": [
      "\u001b[1;36m  File \u001b[1;32m\"<ipython-input-52-8d04e47346a3>\"\u001b[1;36m, line \u001b[1;32m16\u001b[0m\n\u001b[1;33m    # print(type(sample_list[7]))\u001b[0m\n\u001b[1;37m                                 ^\u001b[0m\n\u001b[1;31mSyntaxError\u001b[0m\u001b[1;31m:\u001b[0m unexpected EOF while parsing\n"
     ]
    }
   ],
   "metadata": {}
  },
  {
   "cell_type": "code",
   "execution_count": 75,
   "source": [
    "# Write a program that prints each item and its corresponding type from the following list.\r\n",
    "\r\n",
    "sample_list = [{\"section\":5, \"topic\":2}, 'clarusway', [1, 4], 2020, 3.14, 1+618j, False, (10, 20)]\r\n",
    "\r\n",
    "#One of the output line as an example: The type of clarusway is <class 'str'>.\r\n",
    "#Note: Write the program with for statement.\r\n",
    "for i in sample_list:\r\n",
    "    print(\"The type of {} is\".format({sample_list[0]}),  type(sample_list[0]))\r\n",
    "    print(\"The type of clarusway is\",  type(sample_list[1]))\r\n",
    "    print(\"The type of clarusway is\",  type(sample_list[2]))\r\n",
    "    print(\"The type of clarusway is\",  type(sample_list[3]))\r\n",
    "    print(\"The type of clarusway is\",  type(sample_list[4]))\r\n",
    "    print(\"The type of clarusway is\",  type(sample_list[5]))\r\n",
    "    print(\"The type of clarusway is\",  type(sample_list[6]))\r\n",
    "    print(\"The type of clarusway is\",  type(sample_list[7]))\r\n",
    "    break"
   ],
   "outputs": [
    {
     "output_type": "error",
     "ename": "TypeError",
     "evalue": "unhashable type: 'dict'",
     "traceback": [
      "\u001b[1;31m---------------------------------------------------------------------------\u001b[0m",
      "\u001b[1;31mTypeError\u001b[0m                                 Traceback (most recent call last)",
      "\u001b[1;32m<ipython-input-75-460d246e1119>\u001b[0m in \u001b[0;36m<module>\u001b[1;34m\u001b[0m\n\u001b[0;32m      6\u001b[0m \u001b[1;31m#Note: Write the program with for statement.\u001b[0m\u001b[1;33m\u001b[0m\u001b[1;33m\u001b[0m\u001b[1;33m\u001b[0m\u001b[0m\n\u001b[0;32m      7\u001b[0m \u001b[1;32mfor\u001b[0m \u001b[0mi\u001b[0m \u001b[1;32min\u001b[0m \u001b[0msample_list\u001b[0m\u001b[1;33m:\u001b[0m\u001b[1;33m\u001b[0m\u001b[1;33m\u001b[0m\u001b[0m\n\u001b[1;32m----> 8\u001b[1;33m     \u001b[0mprint\u001b[0m\u001b[1;33m(\u001b[0m\u001b[1;34m\"The type of {} is\"\u001b[0m\u001b[1;33m.\u001b[0m\u001b[0mformat\u001b[0m\u001b[1;33m(\u001b[0m\u001b[1;33m{\u001b[0m\u001b[0msample_list\u001b[0m\u001b[1;33m[\u001b[0m\u001b[1;36m0\u001b[0m\u001b[1;33m]\u001b[0m\u001b[1;33m}\u001b[0m\u001b[1;33m)\u001b[0m\u001b[1;33m,\u001b[0m  \u001b[0mtype\u001b[0m\u001b[1;33m(\u001b[0m\u001b[0msample_list\u001b[0m\u001b[1;33m[\u001b[0m\u001b[1;36m0\u001b[0m\u001b[1;33m]\u001b[0m\u001b[1;33m)\u001b[0m\u001b[1;33m)\u001b[0m\u001b[1;33m\u001b[0m\u001b[1;33m\u001b[0m\u001b[0m\n\u001b[0m\u001b[0;32m      9\u001b[0m     \u001b[0mprint\u001b[0m\u001b[1;33m(\u001b[0m\u001b[1;34m\"The type of clarusway is\"\u001b[0m\u001b[1;33m,\u001b[0m  \u001b[0mtype\u001b[0m\u001b[1;33m(\u001b[0m\u001b[0msample_list\u001b[0m\u001b[1;33m[\u001b[0m\u001b[1;36m1\u001b[0m\u001b[1;33m]\u001b[0m\u001b[1;33m)\u001b[0m\u001b[1;33m)\u001b[0m\u001b[1;33m\u001b[0m\u001b[1;33m\u001b[0m\u001b[0m\n\u001b[0;32m     10\u001b[0m     \u001b[0mprint\u001b[0m\u001b[1;33m(\u001b[0m\u001b[1;34m\"The type of clarusway is\"\u001b[0m\u001b[1;33m,\u001b[0m  \u001b[0mtype\u001b[0m\u001b[1;33m(\u001b[0m\u001b[0msample_list\u001b[0m\u001b[1;33m[\u001b[0m\u001b[1;36m2\u001b[0m\u001b[1;33m]\u001b[0m\u001b[1;33m)\u001b[0m\u001b[1;33m)\u001b[0m\u001b[1;33m\u001b[0m\u001b[1;33m\u001b[0m\u001b[0m\n",
      "\u001b[1;31mTypeError\u001b[0m: unhashable type: 'dict'"
     ]
    }
   ],
   "metadata": {}
  },
  {
   "cell_type": "code",
   "execution_count": 77,
   "source": [
    "sample_list = [{\"section\":5, \"topic\":2}, 'clarusway', [1, 4], 2020, 3.14, 1+618j, False, (10, 20)]\r\n",
    "\r\n",
    "for i in sample_list:\r\n",
    "   print (\"The type of\", i, \"is\", type(i))"
   ],
   "outputs": [
    {
     "output_type": "stream",
     "name": "stdout",
     "text": [
      "The type of {'section': 5, 'topic': 2} is <class 'dict'>\n",
      "The type of clarusway is <class 'str'>\n",
      "The type of [1, 4] is <class 'list'>\n",
      "The type of 2020 is <class 'int'>\n",
      "The type of 3.14 is <class 'float'>\n",
      "The type of (1+618j) is <class 'complex'>\n",
      "The type of False is <class 'bool'>\n",
      "The type of (10, 20) is <class 'tuple'>\n"
     ]
    }
   ],
   "metadata": {}
  },
  {
   "cell_type": "code",
   "execution_count": 2,
   "source": [
    "matrix = [\r\n",
    "...     [1, 2, 3, 4],\r\n",
    "...     [5, 6, 7, 8],\r\n",
    "...     [9, 10, 11, 12],\r\n",
    "... ]\r\n",
    "\r\n",
    "\r\n",
    "[[row[i] for row in matrix] for i in range(4)]"
   ],
   "outputs": [
    {
     "output_type": "execute_result",
     "data": {
      "text/plain": [
       "[[1, 5, 9], [2, 6, 10], [3, 7, 11], [4, 8, 12]]"
      ]
     },
     "metadata": {},
     "execution_count": 2
    }
   ],
   "metadata": {}
  },
  {
   "cell_type": "code",
   "execution_count": 22,
   "source": [
    "transposed = []\r\n",
    "for i in range(4):\r\n",
    "    transposed.append([row[i] for row in matrix])\r\n",
    "\r\n",
    "transposed"
   ],
   "outputs": [
    {
     "output_type": "execute_result",
     "data": {
      "text/plain": [
       "[[1, 5, 9], [2, 6, 10], [3, 7, 11], [4, 8, 12]]"
      ]
     },
     "metadata": {},
     "execution_count": 22
    }
   ],
   "metadata": {}
  },
  {
   "cell_type": "code",
   "execution_count": 23,
   "source": [
    "transposed = []\r\n",
    ">>> for i in range(4):\r\n",
    "...     # the following 3 lines implement the nested listcomp\r\n",
    "...     transposed_row = []\r\n",
    "...     for row in matrix:\r\n",
    "...         transposed_row.append(row[i])\r\n",
    "...     transposed.append(transposed_row)\r\n",
    "...\r\n",
    ">>> transposed"
   ],
   "outputs": [
    {
     "output_type": "execute_result",
     "data": {
      "text/plain": [
       "[[1, 5, 9], [2, 6, 10], [3, 7, 11], [4, 8, 12]]"
      ]
     },
     "metadata": {},
     "execution_count": 23
    }
   ],
   "metadata": {}
  },
  {
   "cell_type": "code",
   "execution_count": 24,
   "source": [
    "list(zip(*matrix))"
   ],
   "outputs": [
    {
     "output_type": "execute_result",
     "data": {
      "text/plain": [
       "[(1, 5, 9), (2, 6, 10), (3, 7, 11), (4, 8, 12)]"
      ]
     },
     "metadata": {},
     "execution_count": 24
    }
   ],
   "metadata": {}
  },
  {
   "cell_type": "code",
   "execution_count": 4,
   "source": [
    "vec = [-4, -2, 0, 2, 4]"
   ],
   "outputs": [],
   "metadata": {}
  },
  {
   "cell_type": "code",
   "execution_count": 5,
   "source": [
    "[x*2 for x in vec]"
   ],
   "outputs": [
    {
     "output_type": "execute_result",
     "data": {
      "text/plain": [
       "[-8, -4, 0, 4, 8]"
      ]
     },
     "metadata": {},
     "execution_count": 5
    }
   ],
   "metadata": {}
  },
  {
   "cell_type": "code",
   "execution_count": 6,
   "source": [
    "[x for x in vec if x >= 0]"
   ],
   "outputs": [
    {
     "output_type": "execute_result",
     "data": {
      "text/plain": [
       "[0, 2, 4]"
      ]
     },
     "metadata": {},
     "execution_count": 6
    }
   ],
   "metadata": {}
  },
  {
   "cell_type": "code",
   "execution_count": 7,
   "source": [
    "[abs(x) for x in vec]"
   ],
   "outputs": [
    {
     "output_type": "execute_result",
     "data": {
      "text/plain": [
       "[4, 2, 0, 2, 4]"
      ]
     },
     "metadata": {},
     "execution_count": 7
    }
   ],
   "metadata": {}
  },
  {
   "cell_type": "code",
   "execution_count": 8,
   "source": [
    "freshfruit = ['  banana', '  loganberry ', 'passion fruit  ']\r\n",
    "[weapon.strip() for weapon in freshfruit]"
   ],
   "outputs": [
    {
     "output_type": "execute_result",
     "data": {
      "text/plain": [
       "['banana', 'loganberry', 'passion fruit']"
      ]
     },
     "metadata": {},
     "execution_count": 8
    }
   ],
   "metadata": {}
  },
  {
   "cell_type": "code",
   "execution_count": 12,
   "source": [
    "freshfruit = ['  banana', '  loganberry ', 'passion fruit  ']\r\n",
    "for weapon in freshfruit:\r\n",
    "    print(weapon.strip())"
   ],
   "outputs": [
    {
     "output_type": "stream",
     "name": "stdout",
     "text": [
      "banana\n",
      "loganberry\n",
      "passion fruit\n"
     ]
    }
   ],
   "metadata": {}
  },
  {
   "cell_type": "code",
   "execution_count": 9,
   "source": [
    "[(x, x**2) for x in range(6)]"
   ],
   "outputs": [
    {
     "output_type": "execute_result",
     "data": {
      "text/plain": [
       "[(0, 0), (1, 1), (2, 4), (3, 9), (4, 16), (5, 25)]"
      ]
     },
     "metadata": {},
     "execution_count": 9
    }
   ],
   "metadata": {}
  },
  {
   "cell_type": "code",
   "execution_count": 10,
   "source": [
    "for x in range(6):\r\n",
    "    print(x, x **2)"
   ],
   "outputs": [
    {
     "output_type": "stream",
     "name": "stdout",
     "text": [
      "0 0\n",
      "1 1\n",
      "2 4\n",
      "3 9\n",
      "4 16\n",
      "5 25\n"
     ]
    }
   ],
   "metadata": {}
  },
  {
   "cell_type": "code",
   "execution_count": 13,
   "source": [
    "vec = [[1,2,3], [4,5,6], [7,8,9]]\r\n",
    "[num for elem in vec for num in elem]"
   ],
   "outputs": [
    {
     "output_type": "execute_result",
     "data": {
      "text/plain": [
       "[1, 2, 3, 4, 5, 6, 7, 8, 9]"
      ]
     },
     "metadata": {},
     "execution_count": 13
    }
   ],
   "metadata": {}
  },
  {
   "cell_type": "code",
   "execution_count": 20,
   "source": [
    "for elem in vec:\r\n",
    "    for num in elem:\r\n",
    "        print(num)"
   ],
   "outputs": [
    {
     "output_type": "stream",
     "name": "stdout",
     "text": [
      "1\n",
      "2\n",
      "3\n",
      "4\n",
      "5\n",
      "6\n",
      "7\n",
      "8\n",
      "9\n"
     ]
    }
   ],
   "metadata": {}
  },
  {
   "cell_type": "code",
   "execution_count": 21,
   "source": [
    "from math import pi\r\n",
    "[str(round(pi, i)) for i in range(1, 6)]"
   ],
   "outputs": [
    {
     "output_type": "execute_result",
     "data": {
      "text/plain": [
       "['3.1', '3.14', '3.142', '3.1416', '3.14159']"
      ]
     },
     "metadata": {},
     "execution_count": 21
    }
   ],
   "metadata": {}
  },
  {
   "cell_type": "code",
   "execution_count": 8,
   "source": [
    "freshfruit = ['  banana', '  loganberry ', 'passion fruit  ']\r\n",
    "[weapon.strip() for weapon in freshfruit]"
   ],
   "outputs": [
    {
     "output_type": "display_data",
     "data": {
      "text/plain": [
       "['banana', 'loganberry', 'passion fruit']"
      ]
     },
     "metadata": {}
    }
   ],
   "metadata": {}
  },
  {
   "cell_type": "code",
   "execution_count": 25,
   "source": [
    "mountain = tuple('Alps')\r\n",
    "print(mountain)"
   ],
   "outputs": [
    {
     "output_type": "stream",
     "name": "stdout",
     "text": [
      "('A', 'l', 'p', 's')\n"
     ]
    }
   ],
   "metadata": {}
  },
  {
   "cell_type": "code",
   "execution_count": 26,
   "source": [
    "mountain = ('Alps')\r\n",
    "print(mountain)"
   ],
   "outputs": [
    {
     "output_type": "stream",
     "name": "stdout",
     "text": [
      "Alps\n"
     ]
    }
   ],
   "metadata": {}
  },
  {
   "cell_type": "code",
   "execution_count": 29,
   "source": [
    "mountain = 'Alps',\r\n",
    "print(type(mountain), mountain)"
   ],
   "outputs": [
    {
     "output_type": "stream",
     "name": "stdout",
     "text": [
      "<class 'tuple'> ('Alps',)\n"
     ]
    }
   ],
   "metadata": {}
  },
  {
   "cell_type": "code",
   "execution_count": 4,
   "source": [
    "c = 5\r\n",
    "d = 4\r\n",
    "\r\n",
    "def func(a, b, c = 1, d = 2):\r\n",
    "    s = sum([a, b, c, d])\r\n",
    "    print(s)\r\n",
    "func(3, c, d)\r\n",
    "# Function func(a, b, c=1, d=2) has four parameters a, b, c and d.\r\n",
    "The parameters c and d both have default values, which means, if no value is provided\r\n",
    "for these parameters, their values will be set to the default value.\r\n",
    "E.g. calling function func(1, 1) will lead to a call with the following values for the parameters:\r\n",
    "a=1, b=1, c=1, d=2\r\n",
    "In the puzzle we call function func(3, c, d) which means inside func the parameters have the following values:\r\n",
    "a=3, b=5, c=4, d=2\r\n",
    "For the parameters a and b a value has to be provided because they don‘t have default values.\r\n",
    "In the function call we also provide a value for c, this is why c is set to the value given in the function call.\r\n",
    "For parameter d there is no value in the function call therefore parameter d will be set to its default value.\r\n",
    "Function func sums up the values of the parameters, thus it returns 3+5+4+2 = 14"
   ],
   "outputs": [
    {
     "output_type": "stream",
     "name": "stdout",
     "text": [
      "14\n"
     ]
    }
   ],
   "metadata": {}
  },
  {
   "cell_type": "code",
   "execution_count": 7,
   "source": [
    "ord('c')\r\n",
    "c"
   ],
   "outputs": [
    {
     "output_type": "execute_result",
     "data": {
      "text/plain": [
       "5"
      ]
     },
     "metadata": {},
     "execution_count": 7
    }
   ],
   "metadata": {}
  },
  {
   "cell_type": "code",
   "execution_count": 9,
   "source": [
    "chr(3)"
   ],
   "outputs": [
    {
     "output_type": "execute_result",
     "data": {
      "text/plain": [
       "'\\x03'"
      ]
     },
     "metadata": {},
     "execution_count": 9
    }
   ],
   "metadata": {}
  },
  {
   "cell_type": "code",
   "execution_count": 10,
   "source": [
    "def decrypt(s):\r\n",
    "    l = [chr(ord(c)-2) for c in s]\r\n",
    "    return ''.join(l)\r\n",
    "print(decrypt(\"Ecguct\"))\r\n",
    "\r\n",
    "# "
   ],
   "outputs": [
    {
     "output_type": "stream",
     "name": "stdout",
     "text": [
      "Caesar\n"
     ]
    }
   ],
   "metadata": {}
  },
  {
   "cell_type": "code",
   "execution_count": 11,
   "source": [
    "import re\r\n",
    "regex = \"e.\"\r\n",
    "string = \"Spiderman\"\r\n",
    "result = re.split(regex, string)\r\n",
    "print(result[1])"
   ],
   "outputs": [
    {
     "output_type": "stream",
     "name": "stdout",
     "text": [
      "man\n"
     ]
    }
   ],
   "metadata": {}
  },
  {
   "cell_type": "code",
   "execution_count": 12,
   "source": [
    "xs = [[1, 2], [3, 4]]\r\n",
    "ys = list(xs)\r\n",
    "print(xs[0] is ys[0])"
   ],
   "outputs": [
    {
     "output_type": "stream",
     "name": "stdout",
     "text": [
      "True\n"
     ]
    }
   ],
   "metadata": {}
  },
  {
   "cell_type": "code",
   "execution_count": 13,
   "source": [
    "t = [1, 2, 3]\r\n",
    "t[100:103] = [4]\r\n",
    "print(t[3])"
   ],
   "outputs": [
    {
     "output_type": "stream",
     "name": "stdout",
     "text": [
      "4\n"
     ]
    }
   ],
   "metadata": {}
  },
  {
   "cell_type": "code",
   "execution_count": 17,
   "source": [
    "def concat(*args, sep=\"/\"):\r\n",
    "    return sep.join(args)\r\n",
    "    print(concat(\"A\", \"B\", \"C\", sep=\",\"))\r\n",
    "concat(\"A\", \"B\", \"C\")"
   ],
   "outputs": [
    {
     "output_type": "execute_result",
     "data": {
      "text/plain": [
       "'A/B/C'"
      ]
     },
     "metadata": {},
     "execution_count": 17
    }
   ],
   "metadata": {}
  },
  {
   "cell_type": "code",
   "execution_count": 1,
   "source": [
    "s = 'abc'\r\n",
    "for _ in range(10):\r\n",
    "    s = tuple(s)\r\n",
    "\r\n",
    "print(len(s))"
   ],
   "outputs": [
    {
     "output_type": "stream",
     "name": "stdout",
     "text": [
      "3\n"
     ]
    }
   ],
   "metadata": {}
  },
  {
   "cell_type": "code",
   "execution_count": 5,
   "source": [
    "def fibo(n):\r\n",
    "    result = []\r\n",
    "    a, b = 0, 1\r\n",
    "    while a < n:\r\n",
    "        result.append(a)\r\n",
    "        a, b = b, a + b\r\n",
    "    return result\r\n",
    "fib100 = fibo(100)\r\n",
    "print(fib100[-1] == fib100[-2] + fib100[-3])\r\n"
   ],
   "outputs": [
    {
     "output_type": "stream",
     "name": "stdout",
     "text": [
      "True\n"
     ]
    }
   ],
   "metadata": {}
  },
  {
   "cell_type": "code",
   "execution_count": 1,
   "source": [
    "days = \"MonTueWedThuFriSatSun\"\r\n",
    "getday = lambda i :days[(i - 1)*3:i*3]\r\n",
    "\r\n",
    "print(getday(1))\r\n",
    "print(getday(6))"
   ],
   "outputs": [
    {
     "output_type": "stream",
     "name": "stdout",
     "text": [
      "Mon\n",
      "Sat\n"
     ]
    }
   ],
   "metadata": {}
  },
  {
   "cell_type": "markdown",
   "source": [],
   "metadata": {}
  },
  {
   "cell_type": "code",
   "execution_count": 7,
   "source": [
    "letters = ['a', 'b', 'c', 'd', 'e', 'f','g']\r\n",
    "letters[1:] = []\r\n",
    "print(letters)\r\n"
   ],
   "outputs": [
    {
     "output_type": "stream",
     "name": "stdout",
     "text": [
      "['a']\n"
     ]
    },
    {
     "output_type": "error",
     "ename": "TypeError",
     "evalue": "'builtin_function_or_method' object is not subscriptable",
     "traceback": [
      "\u001b[1;31m---------------------------------------------------------------------------\u001b[0m",
      "\u001b[1;31mTypeError\u001b[0m                                 Traceback (most recent call last)",
      "\u001b[1;32m<ipython-input-7-86b5fbf2f248>\u001b[0m in \u001b[0;36m<module>\u001b[1;34m\u001b[0m\n\u001b[0;32m      2\u001b[0m \u001b[0mletters\u001b[0m\u001b[1;33m[\u001b[0m\u001b[1;36m1\u001b[0m\u001b[1;33m:\u001b[0m\u001b[1;33m]\u001b[0m \u001b[1;33m=\u001b[0m \u001b[1;33m[\u001b[0m\u001b[1;33m]\u001b[0m\u001b[1;33m\u001b[0m\u001b[1;33m\u001b[0m\u001b[0m\n\u001b[0;32m      3\u001b[0m \u001b[0mprint\u001b[0m\u001b[1;33m(\u001b[0m\u001b[0mletters\u001b[0m\u001b[1;33m)\u001b[0m\u001b[1;33m\u001b[0m\u001b[1;33m\u001b[0m\u001b[0m\n\u001b[1;32m----> 4\u001b[1;33m \u001b[0mprint\u001b[0m\u001b[1;33m(\u001b[0m\u001b[0mletters\u001b[0m\u001b[1;33m.\u001b[0m\u001b[0mappend\u001b[0m\u001b[1;33m[\u001b[0m\u001b[0mletters\u001b[0m\u001b[1;33m]\u001b[0m\u001b[1;33m)\u001b[0m\u001b[1;33m\u001b[0m\u001b[1;33m\u001b[0m\u001b[0m\n\u001b[0m",
      "\u001b[1;31mTypeError\u001b[0m: 'builtin_function_or_method' object is not subscriptable"
     ]
    }
   ],
   "metadata": {}
  },
  {
   "cell_type": "code",
   "execution_count": null,
   "source": [],
   "outputs": [],
   "metadata": {}
  }
 ],
 "metadata": {
  "kernelspec": {
   "name": "python3",
   "display_name": "Python 3.8.8 64-bit ('base': conda)"
  },
  "language_info": {
   "codemirror_mode": {
    "name": "ipython",
    "version": 3
   },
   "file_extension": ".py",
   "mimetype": "text/x-python",
   "name": "python",
   "nbconvert_exporter": "python",
   "pygments_lexer": "ipython3",
   "version": "3.8.8"
  },
  "interpreter": {
   "hash": "37eb40c3388cfde35488e2d005b0d69ca91ddeff8a429754d4da636d3f888e5e"
  }
 },
 "nbformat": 4,
 "nbformat_minor": 5
}