{
 "cells": [
  {
   "cell_type": "markdown",
   "source": [
    "PRE-CLASS"
   ],
   "metadata": {}
  },
  {
   "cell_type": "markdown",
   "source": [
    "# only way to create an empty set is: use the set() function.\r\n",
    "# Do not use {} to create an empty set. Otherwise, you will create an empty dictionary."
   ],
   "metadata": {}
  },
  {
   "cell_type": "code",
   "execution_count": 19,
   "source": [
    "empty_set = set()\r\n",
    "\r\n",
    "print(type(empty_set))"
   ],
   "outputs": [
    {
     "output_type": "stream",
     "name": "stdout",
     "text": [
      "<class 'set'>\n"
     ]
    }
   ],
   "metadata": {}
  },
  {
   "cell_type": "code",
   "execution_count": 20,
   "source": [
    "colorset = {'purple', 'orange', 'red', 'darkblue', 'yellow', 'red'}\r\n",
    "\r\n",
    "print(colorset)\r\n",
    "print(colorset)"
   ],
   "outputs": [
    {
     "output_type": "stream",
     "name": "stdout",
     "text": [
      "{'purple', 'darkblue', 'yellow', 'red', 'orange'}\n",
      "{'purple', 'darkblue', 'yellow', 'red', 'orange'}\n"
     ]
    }
   ],
   "metadata": {}
  },
  {
   "cell_type": "code",
   "execution_count": 21,
   "source": [
    "#| = birleşimkümesi, & = and, her iki kümenin elemeanı =intersection(), creating a set = {'a', 'b', 'c'}"
   ],
   "outputs": [],
   "metadata": {}
  },
  {
   "cell_type": "code",
   "execution_count": 22,
   "source": [
    "s = set('unselfishness')\r\n",
    "\r\n",
    "print(s) "
   ],
   "outputs": [
    {
     "output_type": "stream",
     "name": "stdout",
     "text": [
      "{'s', 'l', 'f', 'u', 'h', 'e', 'i', 'n'}\n"
     ]
    }
   ],
   "metadata": {}
  },
  {
   "cell_type": "code",
   "execution_count": 23,
   "source": [
    "# convert a list into a set \r\n",
    "flower_list = ['rose', 'violet', 'carnation', 'rose', 'orchid', 'rose', 'orchid']\r\n",
    "flowerset = set(flower_list)\r\n",
    "flowerlist = list(flowerset)\r\n",
    "\r\n",
    "print(flowerset) \r\n",
    "print(flowerlist)"
   ],
   "outputs": [
    {
     "output_type": "stream",
     "name": "stdout",
     "text": [
      "{'carnation', 'violet', 'orchid', 'rose'}\n",
      "['carnation', 'violet', 'orchid', 'rose']\n"
     ]
    }
   ],
   "metadata": {}
  },
  {
   "cell_type": "code",
   "execution_count": 24,
   "source": [
    "flowers = {'carnation', 'orchid', 'rose', 'violet'} \r\n",
    "flowers1 = {'rose', 'orchid', 'rose', 'violet', 'carnation'}\r\n",
    "print(flowers)\r\n",
    "print(flowers1)"
   ],
   "outputs": [
    {
     "output_type": "stream",
     "name": "stdout",
     "text": [
      "{'carnation', 'orchid', 'violet', 'rose'}\n",
      "{'carnation', 'orchid', 'violet', 'rose'}\n"
     ]
    }
   ],
   "metadata": {}
  },
  {
   "cell_type": "code",
   "execution_count": 25,
   "source": [
    "set([[1,2],[3,4],[4,5]])"
   ],
   "outputs": [
    {
     "output_type": "error",
     "ename": "TypeError",
     "evalue": "unhashable type: 'list'",
     "traceback": [
      "\u001b[1;31m---------------------------------------------------------------------------\u001b[0m",
      "\u001b[1;31mTypeError\u001b[0m                                 Traceback (most recent call last)",
      "\u001b[1;32m<ipython-input-25-e279be15b2d8>\u001b[0m in \u001b[0;36m<module>\u001b[1;34m\u001b[0m\n\u001b[1;32m----> 1\u001b[1;33m \u001b[0mset\u001b[0m\u001b[1;33m(\u001b[0m\u001b[1;33m[\u001b[0m\u001b[1;33m[\u001b[0m\u001b[1;36m1\u001b[0m\u001b[1;33m,\u001b[0m\u001b[1;36m2\u001b[0m\u001b[1;33m]\u001b[0m\u001b[1;33m,\u001b[0m\u001b[1;33m[\u001b[0m\u001b[1;36m3\u001b[0m\u001b[1;33m,\u001b[0m\u001b[1;36m4\u001b[0m\u001b[1;33m]\u001b[0m\u001b[1;33m,\u001b[0m\u001b[1;33m[\u001b[0m\u001b[1;36m4\u001b[0m\u001b[1;33m,\u001b[0m\u001b[1;36m5\u001b[0m\u001b[1;33m]\u001b[0m\u001b[1;33m]\u001b[0m\u001b[1;33m)\u001b[0m\u001b[1;33m\u001b[0m\u001b[1;33m\u001b[0m\u001b[0m\n\u001b[0m",
      "\u001b[1;31mTypeError\u001b[0m: unhashable type: 'list'"
     ]
    }
   ],
   "metadata": {}
  },
  {
   "cell_type": "code",
   "execution_count": null,
   "source": [
    "set([1,2,2,3,4,5])"
   ],
   "outputs": [
    {
     "output_type": "execute_result",
     "data": {
      "text/plain": [
       "{1, 2, 3, 4, 5}"
      ]
     },
     "metadata": {},
     "execution_count": 8
    }
   ],
   "metadata": {}
  },
  {
   "cell_type": "code",
   "execution_count": null,
   "source": [
    "{1,2,3,4}"
   ],
   "outputs": [
    {
     "output_type": "execute_result",
     "data": {
      "text/plain": [
       "{1, 2, 3, 4}"
      ]
     },
     "metadata": {},
     "execution_count": 9
    }
   ],
   "metadata": {}
  },
  {
   "cell_type": "code",
   "execution_count": null,
   "source": [
    "set((1,2,3,4))"
   ],
   "outputs": [
    {
     "output_type": "execute_result",
     "data": {
      "text/plain": [
       "{1, 2, 3, 4}"
      ]
     },
     "metadata": {},
     "execution_count": 10
    }
   ],
   "metadata": {}
  },
  {
   "cell_type": "code",
   "execution_count": null,
   "source": [
    "a = set('abracadabra')\r\n",
    "\r\n",
    "print(a) "
   ],
   "outputs": [
    {
     "output_type": "stream",
     "name": "stdout",
     "text": [
      "{'a', 'r', 'c', 'd', 'b'}\n"
     ]
    }
   ],
   "metadata": {}
  },
  {
   "cell_type": "code",
   "execution_count": null,
   "source": [
    "a = set('abracadabra')\r\n",
    "b = set('alacazam')\r\n",
    "\r\n",
    "print(a - b)  # same as '.difference()' method\r\n",
    "print(a.difference(b)) # a difference from b"
   ],
   "outputs": [
    {
     "output_type": "stream",
     "name": "stdout",
     "text": [
      "{'d', 'b', 'r'}\n",
      "{'d', 'b', 'r'}\n"
     ]
    }
   ],
   "metadata": {}
  },
  {
   "cell_type": "code",
   "execution_count": null,
   "source": [
    "a = set('abracadabra')\r\n",
    "b = set('alacazam')\r\n",
    "\r\n",
    "print(a | b)  # same as '.union()' method\r\n",
    "print(a.union(b)) # unification of a with b"
   ],
   "outputs": [
    {
     "output_type": "stream",
     "name": "stdout",
     "text": [
      "{'l', 'a', 'r', 'c', 'd', 'm', 'b', 'z'}\n",
      "{'l', 'a', 'r', 'c', 'd', 'm', 'b', 'z'}\n"
     ]
    }
   ],
   "metadata": {}
  },
  {
   "cell_type": "code",
   "execution_count": null,
   "source": [
    "a = set('abracadabra')\r\n",
    "b = set('alacazam')\r\n",
    "\r\n",
    "print(a & b)  # same as '.intersection()' method\r\n",
    "print(a.intersection(b)) # intersection of a and b"
   ],
   "outputs": [
    {
     "output_type": "stream",
     "name": "stdout",
     "text": [
      "{'c', 'a'}\n",
      "{'c', 'a'}\n"
     ]
    }
   ],
   "metadata": {}
  },
  {
   "cell_type": "code",
   "execution_count": null,
   "source": [
    "a = set('abracadabra')\r\n",
    "\r\n",
    "a.remove('c') # we delete 'c' from the set\r\n",
    "print(a)"
   ],
   "outputs": [
    {
     "output_type": "stream",
     "name": "stdout",
     "text": [
      "{'a', 'r', 'd', 'b'}\n"
     ]
    }
   ],
   "metadata": {}
  },
  {
   "cell_type": "code",
   "execution_count": null,
   "source": [
    "a = set('abracadabra')\r\n",
    "\r\n",
    "a.add('c') # we add 'c' again into the set\r\n",
    "print(a)"
   ],
   "outputs": [
    {
     "output_type": "stream",
     "name": "stdout",
     "text": [
      "{'a', 'r', 'c', 'd', 'b'}\n"
     ]
    }
   ],
   "metadata": {}
  },
  {
   "cell_type": "code",
   "execution_count": null,
   "source": [
    "print(len(set('listen to the voice of enlisted')))"
   ],
   "outputs": [
    {
     "output_type": "stream",
     "name": "stdout",
     "text": [
      "13\n"
     ]
    }
   ],
   "metadata": {}
  },
  {
   "cell_type": "markdown",
   "source": [
    "EXERCISES FROM https://www.w3resource.com/python-exercises/sets/"
   ],
   "metadata": {}
  },
  {
   "cell_type": "code",
   "execution_count": 26,
   "source": [
    "# Write a Python program to create a set.\r\n",
    "print(\"Create a new set:\")\r\n",
    "x = set()\r\n",
    "print(x)\r\n",
    "print(type(x))\r\n",
    "print(\"\\nCreate a non empty set:\")\r\n",
    "n = set([0, 1, 2, 3, 4])\r\n",
    "print(n)\r\n",
    "print(type(n))\r\n",
    "print(\"\\nUsing a literal:\")\r\n",
    "a = {1,2,3,'foo','bar'}\r\n",
    "print(type(a))\r\n",
    "print(a)"
   ],
   "outputs": [
    {
     "output_type": "stream",
     "name": "stdout",
     "text": [
      "Create a new set:\n",
      "set()\n",
      "<class 'set'>\n",
      "\n",
      "Create a non empty set:\n",
      "{0, 1, 2, 3, 4}\n",
      "<class 'set'>\n",
      "\n",
      "Using a literal:\n",
      "<class 'set'>\n",
      "{1, 2, 3, 'bar', 'foo'}\n"
     ]
    }
   ],
   "metadata": {}
  },
  {
   "cell_type": "code",
   "execution_count": 27,
   "source": [
    "# Write a Python program to iteration over sets.\r\n",
    "#Create a set \r\n",
    "num_set = set([0, 1, 2, 3, 4, 5])\r\n",
    "for n in num_set:\r\n",
    "  print(n, end=' ')\r\n",
    "print(\"\\n\\nCreating a set using string:\")\r\n",
    "char_set = set(\"w3resource\")  \r\n",
    "# Iterating using for loop\r\n",
    "for val in char_set:\r\n",
    "    print(val, end=' ')"
   ],
   "outputs": [
    {
     "output_type": "stream",
     "name": "stdout",
     "text": [
      "0 1 2 3 4 5 \n",
      "\n",
      "Creating a set using string:\n",
      "w s 3 u o r c e "
     ]
    }
   ],
   "metadata": {}
  },
  {
   "cell_type": "code",
   "execution_count": 28,
   "source": [
    "# Write a Python program to add member(s) in a set.\r\n",
    "#A new empty set\r\n",
    "color_set = set()\r\n",
    "print(color_set)\r\n",
    "print(\"\\nAdd single element:\")\r\n",
    "color_set.add(\"Red\")\r\n",
    "print(color_set)\r\n",
    "print(\"\\nAdd multiple items:\")\r\n",
    "color_set.update([\"Blue\", \"Green\"])\r\n",
    "print(color_set)"
   ],
   "outputs": [
    {
     "output_type": "stream",
     "name": "stdout",
     "text": [
      "set()\n",
      "\n",
      "Add single element:\n",
      "{'Red'}\n",
      "\n",
      "Add multiple items:\n",
      "{'Green', 'Blue', 'Red'}\n"
     ]
    }
   ],
   "metadata": {}
  },
  {
   "cell_type": "code",
   "execution_count": 29,
   "source": [
    "# Write a Python program to remove item(s) from a given set.\r\n",
    "num_set = set([0, 1, 3, 4, 5])\r\n",
    "print(\"Original set:\")\r\n",
    "print(num_set)\r\n",
    "num_set.pop()\r\n",
    "print(\"\\nAfter removing the first element from the said set:\")\r\n",
    "print(num_set)"
   ],
   "outputs": [
    {
     "output_type": "stream",
     "name": "stdout",
     "text": [
      "Original set:\n",
      "{0, 1, 3, 4, 5}\n",
      "\n",
      "After removing the first element from the said set:\n",
      "{1, 3, 4, 5}\n"
     ]
    }
   ],
   "metadata": {}
  },
  {
   "cell_type": "code",
   "execution_count": 30,
   "source": [
    "# Write a Python program to create an intersection of sets.\r\n",
    "setx = set([\"green\", \"blue\"])\r\n",
    "sety = set([\"blue\", \"yellow\"])\r\n",
    "print(\"Original set elements:\")\r\n",
    "print(setx)\r\n",
    "print(sety)\r\n",
    "print(\"\\nIntersection of two said sets:\")\r\n",
    "setz = setx & sety\r\n",
    "print(setz)"
   ],
   "outputs": [
    {
     "output_type": "stream",
     "name": "stdout",
     "text": [
      "Original set elements:\n",
      "{'blue', 'green'}\n",
      "{'blue', 'yellow'}\n",
      "\n",
      "Intersection of two said sets:\n",
      "{'blue'}\n"
     ]
    }
   ],
   "metadata": {}
  },
  {
   "cell_type": "code",
   "execution_count": 31,
   "source": [
    "# Write a Python program to create a union of sets.\r\n",
    "setc1 = set([\"green\", \"blue\"])\r\n",
    "setc2 = set([\"blue\", \"yellow\"])\r\n",
    "print(\"Original sets:\")\r\n",
    "print(setc1)\r\n",
    "print(setc2)\r\n",
    "setc = setc1.union(setc2)\r\n",
    "print(\"\\nUnion of above sets:\")\r\n",
    "print(setc)\r\n",
    "setn1 = set([1, 1, 2, 3, 4, 5])\r\n",
    "setn2 = set([1, 5, 6, 7, 8, 9])\r\n",
    "print(\"\\nOriginal sets:\")\r\n",
    "print(setn1)\r\n",
    "print(setn2)\r\n",
    "print(\"\\nUnion of above sets:\")\r\n",
    "setn = setn1.union(setn2)\r\n",
    "print(setn)"
   ],
   "outputs": [
    {
     "output_type": "stream",
     "name": "stdout",
     "text": [
      "Original sets:\n",
      "{'blue', 'green'}\n",
      "{'blue', 'yellow'}\n",
      "\n",
      "Union of above sets:\n",
      "{'blue', 'yellow', 'green'}\n",
      "\n",
      "Original sets:\n",
      "{1, 2, 3, 4, 5}\n",
      "{1, 5, 6, 7, 8, 9}\n",
      "\n",
      "Union of above sets:\n",
      "{1, 2, 3, 4, 5, 6, 7, 8, 9}\n"
     ]
    }
   ],
   "metadata": {}
  },
  {
   "cell_type": "code",
   "execution_count": 32,
   "source": [
    "# Write a Python program to create set difference.\r\n",
    "setc1 = set([\"green\", \"blue\"])\r\n",
    "setc2 = set([\"blue\", \"yellow\"])\r\n",
    "print(\"Original sets:\")\r\n",
    "print(setc1)\r\n",
    "print(setc2)\r\n",
    "r1 = setc1.difference(setc2)\r\n",
    "print(\"\\nDifference of setc1 - setc2:\")\r\n",
    "print(r1)\r\n",
    "r2 = setc2.difference(setc1)\r\n",
    "print(\"\\nDifference of setc2 - setc1:\")\r\n",
    "print(r2)\r\n",
    "setn1 = set([1, 1, 2, 3, 4, 5])\r\n",
    "setn2 = set([1, 5, 6, 7, 8, 9])\r\n",
    "print(\"\\nOriginal sets:\")\r\n",
    "print(setn1)\r\n",
    "print(setn2)\r\n",
    "r1 = setn1.difference(setn2)\r\n",
    "print(\"\\nDifference of setn1 - setn2:\")\r\n",
    "print(r1)\r\n",
    "r2 = setn2.difference(setn1)\r\n",
    "print(\"\\nDifference of setn2 - setn1:\")\r\n",
    "print(r2)"
   ],
   "outputs": [
    {
     "output_type": "stream",
     "name": "stdout",
     "text": [
      "Original sets:\n",
      "{'blue', 'green'}\n",
      "{'blue', 'yellow'}\n",
      "\n",
      "Difference of setc1 - setc2:\n",
      "{'green'}\n",
      "\n",
      "Difference of setc2 - setc1:\n",
      "{'yellow'}\n",
      "\n",
      "Original sets:\n",
      "{1, 2, 3, 4, 5}\n",
      "{1, 5, 6, 7, 8, 9}\n",
      "\n",
      "Difference of setn1 - setn2:\n",
      "{2, 3, 4}\n",
      "\n",
      "Difference of setn2 - setn1:\n",
      "{8, 9, 6, 7}\n"
     ]
    }
   ],
   "metadata": {}
  },
  {
   "cell_type": "code",
   "execution_count": 33,
   "source": [
    "# Write a Python program to create a symmetric difference.\r\n",
    "setc1 = set([\"green\", \"blue\"])\r\n",
    "setc2 = set([\"blue\", \"yellow\"])\r\n",
    "print(\"Original sets:\")\r\n",
    "print(setc1)\r\n",
    "print(setc2)\r\n",
    "r1 = setc1.symmetric_difference(setc2)\r\n",
    "print(\"\\nSymmetric difference of setc1 - setc2:\")\r\n",
    "print(r1)\r\n",
    "r2 = setc2.symmetric_difference(setc1)\r\n",
    "print(\"\\nSymmetric difference of setc2 - setc1:\")\r\n",
    "print(r2)\r\n",
    "setn1 = set([1, 1, 2, 3, 4, 5])\r\n",
    "setn2 = set([1, 5, 6, 7, 8, 9])\r\n",
    "print(\"\\nOriginal sets:\")\r\n",
    "print(setn1)\r\n",
    "print(setn2)\r\n",
    "r1 = setn1.symmetric_difference(setn2)\r\n",
    "print(\"\\nSymmetric difference of setn1 - setn2:\")\r\n",
    "print(r1)\r\n",
    "r2 = setn2.symmetric_difference(setn1)\r\n",
    "print(\"\\nSymmetric difference of setn2 - setn1:\")\r\n",
    "print(r2)"
   ],
   "outputs": [
    {
     "output_type": "stream",
     "name": "stdout",
     "text": [
      "Original sets:\n",
      "{'blue', 'green'}\n",
      "{'blue', 'yellow'}\n",
      "\n",
      "Symmetric difference of setc1 - setc2:\n",
      "{'yellow', 'green'}\n",
      "\n",
      "Symmetric difference of setc2 - setc1:\n",
      "{'yellow', 'green'}\n",
      "\n",
      "Original sets:\n",
      "{1, 2, 3, 4, 5}\n",
      "{1, 5, 6, 7, 8, 9}\n",
      "\n",
      "Symmetric difference of setn1 - setn2:\n",
      "{2, 3, 4, 6, 7, 8, 9}\n",
      "\n",
      "Symmetric difference of setn2 - setn1:\n",
      "{2, 3, 4, 6, 7, 8, 9}\n"
     ]
    }
   ],
   "metadata": {}
  },
  {
   "cell_type": "code",
   "execution_count": 34,
   "source": [
    "# Write a Python program to check if a set is a subset of another set.\r\n",
    "print(\"Check if a set is a subset of another set, using comparison operators and issubset():\\n\")\r\n",
    "setx = set([\"apple\", \"mango\"])\r\n",
    "sety = set([\"mango\", \"orange\"])\r\n",
    "setz = set([\"mango\"])\r\n",
    "print(\"x: \",setx)\r\n",
    "print(\"y: \",sety)\r\n",
    "print(\"z: \",setz,\"\\n\")\r\n",
    "print(\"If x is subset of y\")\r\n",
    "print(setx <= sety)\r\n",
    "print(setx.issubset(sety))\r\n",
    "print(\"If y is subset of x\")\r\n",
    "print(sety <= setx)\r\n",
    "print(sety.issubset(setx))\r\n",
    "print(\"\\nIf y is subset of z\")\r\n",
    "print(sety <= setz)\r\n",
    "print(sety.issubset(setz))\r\n",
    "print(\"If z is subset of y\")\r\n",
    "print(setz <= sety)\r\n",
    "print(setz.issubset(sety))"
   ],
   "outputs": [
    {
     "output_type": "stream",
     "name": "stdout",
     "text": [
      "Check if a set is a subset of another set, using comparison operators and issubset():\n",
      "\n",
      "x:  {'mango', 'apple'}\n",
      "y:  {'mango', 'orange'}\n",
      "z:  {'mango'} \n",
      "\n",
      "If x is subset of y\n",
      "False\n",
      "False\n",
      "If y is subset of x\n",
      "False\n",
      "False\n",
      "\n",
      "If y is subset of z\n",
      "False\n",
      "False\n",
      "If z is subset of y\n",
      "True\n",
      "True\n"
     ]
    }
   ],
   "metadata": {}
  },
  {
   "cell_type": "code",
   "execution_count": 35,
   "source": [
    "# Write a Python program to create a shallow copy of sets.\r\n",
    "# Note : Shallow copy is a bit-wise copy of an object. A new object is created that has an exact copy of the values in the original object.\r\n",
    "setp = set([\"Red\", \"Green\"])\r\n",
    "setq = set([\"Green\", \"Red\"])\r\n",
    "#A shallow copy\r\n",
    "setr = setp.copy()\r\n",
    "print(setr)"
   ],
   "outputs": [
    {
     "output_type": "stream",
     "name": "stdout",
     "text": [
      "{'Green', 'Red'}\n"
     ]
    }
   ],
   "metadata": {}
  },
  {
   "cell_type": "code",
   "execution_count": 36,
   "source": [
    "# Write a Python program to remove all elements from a given set.\r\n",
    "setc = {\"Red\", \"Green\", \"Black\", \"White\"}\r\n",
    "print(\"Original set elements:\")\r\n",
    "print(setc)        \r\n",
    "print(\"\\nAfter removing all elements of the said set.\")\r\n",
    "setc.clear()\r\n",
    "print(setc)"
   ],
   "outputs": [
    {
     "output_type": "stream",
     "name": "stdout",
     "text": [
      "Original set elements:\n",
      "{'White', 'Green', 'Red', 'Black'}\n",
      "\n",
      "After removing all elements of the said set.\n",
      "set()\n"
     ]
    }
   ],
   "metadata": {}
  },
  {
   "cell_type": "code",
   "execution_count": 37,
   "source": [
    "# Write a Python program to use of frozensets.\r\n",
    "\r\n",
    "# Note: Frozensets behave just like sets except they are immutable.\r\n",
    "x = frozenset([1, 2, 3, 4, 5])\r\n",
    "y = frozenset([3, 4, 5, 6, 7])\r\n",
    "#use isdisjoint(). Return True if the set has no elements in common with other. \r\n",
    "print(x.isdisjoint(y))\r\n",
    "#use difference(). Return a new set with elements in the set that are not in the others.\r\n",
    "print(x.difference(y))\r\n",
    "#new set with elements from both x and y\r\n",
    "print(x | y)"
   ],
   "outputs": [
    {
     "output_type": "stream",
     "name": "stdout",
     "text": [
      "False\n",
      "frozenset({1, 2})\n",
      "frozenset({1, 2, 3, 4, 5, 6, 7})\n"
     ]
    }
   ],
   "metadata": {}
  },
  {
   "cell_type": "code",
   "execution_count": 38,
   "source": [
    "# Write a Python program to find maximum and the minimum value in a set.\r\n",
    "#Create a set\r\n",
    "setn = {5, 10, 3, 15, 2, 20}\r\n",
    "print(\"Original set elements:\")\r\n",
    "print(setn)\r\n",
    "print(type(setn))\r\n",
    "print(\"\\nMaximum value of the said set:\")\r\n",
    "print(max(setn))\r\n",
    "print(\"\\nMinimum value of the said set:\")\r\n",
    "print(min(setn))"
   ],
   "outputs": [
    {
     "output_type": "stream",
     "name": "stdout",
     "text": [
      "Original set elements:\n",
      "{2, 3, 5, 10, 15, 20}\n",
      "<class 'set'>\n",
      "\n",
      "Maximum value of the said set:\n",
      "20\n",
      "\n",
      "Minimum value of the said set:\n",
      "2\n"
     ]
    }
   ],
   "metadata": {}
  },
  {
   "cell_type": "code",
   "execution_count": 39,
   "source": [
    "# Write a Python program to find the length of a set.\r\n",
    "#Create a set\r\n",
    "setn = {5, 10, 3, 15, 2, 20}\r\n",
    "print(\"Original set elements:\")\r\n",
    "print(setn)\r\n",
    "print(type(setn))\r\n",
    "print(\"\\nLength of the said set:\")\r\n",
    "print(len(setn))\r\n",
    "\r\n",
    "setn = {5, 5, 5, 5, 5, 5}\r\n",
    "print(\"Original set elements:\")\r\n",
    "print(setn)\r\n",
    "print(type(setn))\r\n",
    "print(\"\\nLength of the said set:\")\r\n",
    "print(len(setn))\r\n",
    "\r\n",
    "setn = {5, 5, 5, 5, 5, 5, 7}\r\n",
    "print(\"Original set elements:\")\r\n",
    "print(setn)\r\n",
    "print(type(setn))\r\n",
    "print(\"\\nLength of the said set:\")\r\n",
    "print(len(setn))"
   ],
   "outputs": [
    {
     "output_type": "stream",
     "name": "stdout",
     "text": [
      "Original set elements:\n",
      "{2, 3, 5, 10, 15, 20}\n",
      "<class 'set'>\n",
      "\n",
      "Length of the said set:\n",
      "6\n",
      "Original set elements:\n",
      "{5}\n",
      "<class 'set'>\n",
      "\n",
      "Length of the said set:\n",
      "1\n",
      "Original set elements:\n",
      "{5, 7}\n",
      "<class 'set'>\n",
      "\n",
      "Length of the said set:\n",
      "2\n"
     ]
    }
   ],
   "metadata": {}
  },
  {
   "cell_type": "code",
   "execution_count": 40,
   "source": [
    "# Write a Python program to check if a given value is present in a set or not\r\n",
    "nums = {1, 3, 5, 7, 9, 11}\r\n",
    "print(\"Original sets(nums): \",nums,\"\\n\")\r\n",
    "print(\"Test if 6 exists in nums:\")\r\n",
    "print(6 in nums)\r\n",
    "print(\"Test if 7 exists in nums:\")\r\n",
    "print(7 in nums)\r\n",
    "print(\"Test if 11 exists in nums:\")\r\n",
    "print(11 in nums)\r\n",
    "print(\"Test if 0 exists in nums:\")\r\n",
    "print(0 in nums)\r\n",
    "print(\"\\nTest if 6 is not in nums\")\r\n",
    "print(6 not in nums)\r\n",
    "print(\"Test if 7 is not in nums\")\r\n",
    "print(7 not in nums)\r\n",
    "print(\"Test if 11 is not in nums\")\r\n",
    "print(11 not in nums)\r\n",
    "print(\"Test if 0 is not in nums\")\r\n",
    "print(0 not in nums)"
   ],
   "outputs": [
    {
     "output_type": "stream",
     "name": "stdout",
     "text": [
      "Original sets(nums):  {1, 3, 5, 7, 9, 11} \n",
      "\n",
      "Test if 6 exists in nums:\n",
      "False\n",
      "Test if 7 exists in nums:\n",
      "True\n",
      "Test if 11 exists in nums:\n",
      "True\n",
      "Test if 0 exists in nums:\n",
      "False\n",
      "\n",
      "Test if 6 is not in nums\n",
      "True\n",
      "Test if 7 is not in nums\n",
      "False\n",
      "Test if 11 is not in nums\n",
      "False\n",
      "Test if 0 is not in nums\n",
      "True\n"
     ]
    }
   ],
   "metadata": {}
  },
  {
   "cell_type": "code",
   "execution_count": 41,
   "source": [
    "# Write a Python program to check if two given sets have no elements in common.\r\n",
    "x = {1,2,3,4}\r\n",
    "y = {4,5,6,7}\r\n",
    "z = {8}\r\n",
    "print(\"Original set elements:\")\r\n",
    "print(x)\r\n",
    "print(y)\r\n",
    "print(z)\r\n",
    "print(\"\\nConfirm two given sets have no element(s) in common:\")\r\n",
    "print(\"\\nCompare x and y:\")\r\n",
    "print(x.isdisjoint(y))\r\n",
    "print(\"\\nCompare x and z:\")\r\n",
    "print(z.isdisjoint(x))\r\n",
    "print(\"\\nCompare y and z:\")\r\n",
    "print(y.isdisjoint(z))"
   ],
   "outputs": [
    {
     "output_type": "stream",
     "name": "stdout",
     "text": [
      "Original set elements:\n",
      "{1, 2, 3, 4}\n",
      "{4, 5, 6, 7}\n",
      "{8}\n",
      "\n",
      "Confirm two given sets have no element(s) in common:\n",
      "\n",
      "Compare x and y:\n",
      "False\n",
      "\n",
      "Compare x and z:\n",
      "True\n",
      "\n",
      "Compare y and z:\n",
      "True\n"
     ]
    }
   ],
   "metadata": {}
  },
  {
   "cell_type": "code",
   "execution_count": 42,
   "source": [
    "# Write a Python program to check if a given set is superset of itself and superset of another given set.\r\n",
    "nums = {10,20,30,40,50}\r\n",
    "print(\"Original set: \",nums)\r\n",
    "print(\"If nums is superset of itself?\")\r\n",
    "print(nums.issuperset(nums))\r\n",
    "num1 = {1, 2, 3, 4, 5, 7}\r\n",
    "num2 = {2, 4}\r\n",
    "num3 = {2, 4}\r\n",
    "print(\"\\nnum1 = \", num1)\r\n",
    "print(\"num2 = \", num2)\r\n",
    "print(\"num3 = \", num3)\r\n",
    "print(\"If mum1 is superset of num2:\")\r\n",
    "print(num1>num2)\r\n",
    "print(\"Compare mum2 and num3:\")\r\n",
    "print(\"If mum2 is superset of num3:\")\r\n",
    "print(num2>num3)\r\n",
    "print(\"If mum3 is superset of num2:\")\r\n",
    "print(num3>num2)"
   ],
   "outputs": [
    {
     "output_type": "stream",
     "name": "stdout",
     "text": [
      "Original set:  {40, 10, 50, 20, 30}\n",
      "If nums is superset of itself?\n",
      "True\n",
      "\n",
      "num1 =  {1, 2, 3, 4, 5, 7}\n",
      "num2 =  {2, 4}\n",
      "num3 =  {2, 4}\n",
      "If mum1 is superset of num2:\n",
      "True\n",
      "Compare mum2 and num3:\n",
      "If mum2 is superset of num3:\n",
      "False\n",
      "If mum3 is superset of num2:\n",
      "False\n"
     ]
    }
   ],
   "metadata": {}
  },
  {
   "cell_type": "code",
   "execution_count": 43,
   "source": [
    "# Write a Python program to find the elements in a given set that are not in another set.\r\n",
    "sn1 = {1,2,3,4,5}\r\n",
    "sn2 = {4,5,6,7,8}\r\n",
    "print(\"Original sets:\")\r\n",
    "print(sn1)\r\n",
    "print(sn2)\r\n",
    "print(\"Difference of sn1 and sn2 using difference():\")\r\n",
    "print(sn1.difference(sn2))\r\n",
    "print(\"Difference of sn2 and sn1 using difference():\")\r\n",
    "print(sn2.difference(sn1))\r\n",
    "print(\"Difference of sn1 and sn2 using - operator:\")\r\n",
    "print(sn1-sn2)\r\n",
    "print(\"Difference of sn2 and sn1 using - operator:\")\r\n",
    "print(sn2-sn1)"
   ],
   "outputs": [
    {
     "output_type": "stream",
     "name": "stdout",
     "text": [
      "Original sets:\n",
      "{1, 2, 3, 4, 5}\n",
      "{4, 5, 6, 7, 8}\n",
      "Difference of sn1 and sn2 using difference():\n",
      "{1, 2, 3}\n",
      "Difference of sn2 and sn1 using difference():\n",
      "{8, 6, 7}\n",
      "Difference of sn1 and sn2 using - operator:\n",
      "{1, 2, 3}\n",
      "Difference of sn2 and sn1 using - operator:\n",
      "{8, 6, 7}\n"
     ]
    }
   ],
   "metadata": {}
  },
  {
   "cell_type": "code",
   "execution_count": 44,
   "source": [
    "# Write a Python program to remove the intersection of a 2nd set from the 1st set.\r\n",
    "sn1 = {1,2,3,4,5}\r\n",
    "sn2 = {4,5,6,7,8}\r\n",
    "print(\"Original sets:\")\r\n",
    "print(sn1)\r\n",
    "print(sn2)\r\n",
    "print(\"\\nRemove the intersection of a 2nd set from the 1st set using difference_update():\")\r\n",
    "sn1.difference_update(sn2)\r\n",
    "print(\"sn1: \",sn1)\r\n",
    "print(\"sn2: \",sn2)\r\n",
    "sn1 = {1,2,3,4,5}\r\n",
    "sn2 = {4,5,6,7,8}\r\n",
    "print(\"\\nRemove the intersection of a 2nd set from the 1st set using -= operator:\")\r\n",
    "sn1-=sn2\r\n",
    "print(\"sn1: \",sn1)\r\n",
    "print(\"sn2: \",sn2)"
   ],
   "outputs": [
    {
     "output_type": "stream",
     "name": "stdout",
     "text": [
      "Original sets:\n",
      "{1, 2, 3, 4, 5}\n",
      "{4, 5, 6, 7, 8}\n",
      "\n",
      "Remove the intersection of a 2nd set from the 1st set using difference_update():\n",
      "sn1:  {1, 2, 3}\n",
      "sn2:  {4, 5, 6, 7, 8}\n",
      "\n",
      "Remove the intersection of a 2nd set from the 1st set using -= operator:\n",
      "sn1:  {1, 2, 3}\n",
      "sn2:  {4, 5, 6, 7, 8}\n"
     ]
    }
   ],
   "metadata": {}
  },
  {
   "cell_type": "code",
   "execution_count": null,
   "source": [],
   "outputs": [],
   "metadata": {}
  },
  {
   "cell_type": "code",
   "execution_count": null,
   "source": [],
   "outputs": [],
   "metadata": {}
  }
 ],
 "metadata": {
  "orig_nbformat": 4,
  "language_info": {
   "name": "python",
   "version": "3.8.8",
   "mimetype": "text/x-python",
   "codemirror_mode": {
    "name": "ipython",
    "version": 3
   },
   "pygments_lexer": "ipython3",
   "nbconvert_exporter": "python",
   "file_extension": ".py"
  },
  "kernelspec": {
   "name": "python3",
   "display_name": "Python 3.8.8 64-bit ('base': conda)"
  },
  "interpreter": {
   "hash": "37eb40c3388cfde35488e2d005b0d69ca91ddeff8a429754d4da636d3f888e5e"
  }
 },
 "nbformat": 4,
 "nbformat_minor": 2
}