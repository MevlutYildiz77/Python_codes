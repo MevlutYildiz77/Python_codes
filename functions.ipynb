{
 "cells": [
  {
   "cell_type": "code",
   "execution_count": 2,
   "source": [
    ">>> def welcome(name='learner', location='this tutorial'):\r\n",
    "...     print(\"Hi\", name, \"welcome to\", location)\r\n",
    "...\r\n",
    ">>> welcome()\r\n",
    "\r\n",
    ">>> welcome(name='John')\r\n",
    "\r\n",
    ">>> welcome(location='this epic tutorial')\r\n",
    "\r\n",
    ">>> welcome(name='John', location='this epic tutorial')\r\n"
   ],
   "outputs": [
    {
     "output_type": "stream",
     "name": "stdout",
     "text": [
      "Hi learner welcome to this tutorial\n",
      "Hi John welcome to this tutorial\n",
      "Hi learner welcome to this epic tutorial\n",
      "Hi John welcome to this epic tutorial\n"
     ]
    }
   ],
   "metadata": {}
  },
  {
   "cell_type": "code",
   "execution_count": 6,
   "source": [
    ">>> result = print('Hello')\r\n",
    "\r\n",
    ">>> print(result)"
   ],
   "outputs": [
    {
     "output_type": "stream",
     "name": "stdout",
     "text": [
      "Hello\n",
      "None\n"
     ]
    }
   ],
   "metadata": {}
  },
  {
   "cell_type": "code",
   "execution_count": 5,
   "source": [
    ">>> def say_hi():\r\n",
    "...     print('Hi!')\r\n",
    "...\r\n",
    ">>> say_hi()"
   ],
   "outputs": [
    {
     "output_type": "stream",
     "name": "stdout",
     "text": [
      "Hi!\n"
     ]
    }
   ],
   "metadata": {}
  },
  {
   "cell_type": "code",
   "execution_count": 7,
   "source": [
    ">>> def say_hi(name):\r\n",
    "...     print('Hi', name)\r\n",
    "...\r\n",
    ">>> say_hi('Erik')"
   ],
   "outputs": [
    {
     "output_type": "stream",
     "name": "stdout",
     "text": [
      "Hi Erik\n"
     ]
    }
   ],
   "metadata": {}
  },
  {
   "cell_type": "code",
   "execution_count": 9,
   "source": [
    ">>> def say_hi():\r\n",
    "...    print(\"Hi\", name)\r\n",
    "...    answer = \"Hi\"\r\n",
    "...\r\n",
    ">>> name = 'Erik'\r\n",
    ">>> say_hi()\r\n",
    ">>> print(answer)"
   ],
   "outputs": [
    {
     "output_type": "stream",
     "name": "stdout",
     "text": [
      "Hi Erik\n"
     ]
    },
    {
     "output_type": "error",
     "ename": "NameError",
     "evalue": "name 'answer' is not defined",
     "traceback": [
      "\u001b[1;31m---------------------------------------------------------------------------\u001b[0m",
      "\u001b[1;31mNameError\u001b[0m                                 Traceback (most recent call last)",
      "\u001b[1;32m<ipython-input-9-e1f68a9353be>\u001b[0m in \u001b[0;36m<module>\u001b[1;34m\u001b[0m\n\u001b[0;32m      5\u001b[0m \u001b[0mname\u001b[0m \u001b[1;33m=\u001b[0m \u001b[1;34m'Erik'\u001b[0m\u001b[1;33m\u001b[0m\u001b[1;33m\u001b[0m\u001b[0m\n\u001b[0;32m      6\u001b[0m \u001b[0msay_hi\u001b[0m\u001b[1;33m(\u001b[0m\u001b[1;33m)\u001b[0m\u001b[1;33m\u001b[0m\u001b[1;33m\u001b[0m\u001b[0m\n\u001b[1;32m----> 7\u001b[1;33m \u001b[0mprint\u001b[0m\u001b[1;33m(\u001b[0m\u001b[0manswer\u001b[0m\u001b[1;33m)\u001b[0m\u001b[1;33m\u001b[0m\u001b[1;33m\u001b[0m\u001b[0m\n\u001b[0m",
      "\u001b[1;31mNameError\u001b[0m: name 'answer' is not defined"
     ]
    }
   ],
   "metadata": {}
  },
  {
   "cell_type": "code",
   "execution_count": 10,
   "source": [
    ">>> def welcome(name, location):\r\n",
    "...     print(\"Hi\", name, \"welcome to\", location)\r\n",
    "...\r\n",
    ">>> welcome('erik', 'this tutorial')\r\n"
   ],
   "outputs": [
    {
     "output_type": "stream",
     "name": "stdout",
     "text": [
      "Hi erik welcome to this tutorial\n"
     ]
    }
   ],
   "metadata": {}
  },
  {
   "cell_type": "code",
   "execution_count": 11,
   "source": [
    ">>> def welcome(name='learner', location='this tutorial'):\r\n",
    "...     print(\"Hi\", name, \"welcome to\", location)\r\n",
    "...\r\n",
    ">>> welcome()\r\n",
    "\r\n",
    ">>> welcome(name='John')\r\n",
    "\r\n",
    ">>> welcome(location='this epic tutorial')\r\n",
    "\r\n",
    ">>> welcome(name='John', location='this epic tutorial')\r\n"
   ],
   "outputs": [
    {
     "output_type": "stream",
     "name": "stdout",
     "text": [
      "Hi learner welcome to this tutorial\n",
      "Hi John welcome to this tutorial\n",
      "Hi learner welcome to this epic tutorial\n",
      "Hi John welcome to this epic tutorial\n"
     ]
    }
   ],
   "metadata": {}
  },
  {
   "cell_type": "code",
   "execution_count": 12,
   "source": [
    ">>> def welcome(name='learner', location='this tutorial'):\r\n",
    "...     print(\"Hi\", name, \"welcome to\", location)\r\n",
    "...\r\n",
    ">>> welcome('Erik', 'your home')"
   ],
   "outputs": [
    {
     "output_type": "stream",
     "name": "stdout",
     "text": [
      "Hi Erik welcome to your home\n"
     ]
    }
   ],
   "metadata": {}
  },
  {
   "cell_type": "code",
   "execution_count": 13,
   "source": [
    "def get_user(id):\r\n",
    "    # fetch user from database\r\n",
    "    # ....\r\n",
    "    return name, birthdate\r\n",
    " \r\n",
    "name, birthdate = get_user(4)"
   ],
   "outputs": [
    {
     "output_type": "error",
     "ename": "NameError",
     "evalue": "name 'birthdate' is not defined",
     "traceback": [
      "\u001b[1;31m---------------------------------------------------------------------------\u001b[0m",
      "\u001b[1;31mNameError\u001b[0m                                 Traceback (most recent call last)",
      "\u001b[1;32m<ipython-input-13-9e0d2644d194>\u001b[0m in \u001b[0;36m<module>\u001b[1;34m\u001b[0m\n\u001b[0;32m      4\u001b[0m     \u001b[1;32mreturn\u001b[0m \u001b[0mname\u001b[0m\u001b[1;33m,\u001b[0m \u001b[0mbirthdate\u001b[0m\u001b[1;33m\u001b[0m\u001b[1;33m\u001b[0m\u001b[0m\n\u001b[0;32m      5\u001b[0m \u001b[1;33m\u001b[0m\u001b[0m\n\u001b[1;32m----> 6\u001b[1;33m \u001b[0mname\u001b[0m\u001b[1;33m,\u001b[0m \u001b[0mbirthdate\u001b[0m \u001b[1;33m=\u001b[0m \u001b[0mget_user\u001b[0m\u001b[1;33m(\u001b[0m\u001b[1;36m4\u001b[0m\u001b[1;33m)\u001b[0m\u001b[1;33m\u001b[0m\u001b[1;33m\u001b[0m\u001b[0m\n\u001b[0m",
      "\u001b[1;32m<ipython-input-13-9e0d2644d194>\u001b[0m in \u001b[0;36mget_user\u001b[1;34m(id)\u001b[0m\n\u001b[0;32m      2\u001b[0m     \u001b[1;31m# fetch user from database\u001b[0m\u001b[1;33m\u001b[0m\u001b[1;33m\u001b[0m\u001b[1;33m\u001b[0m\u001b[0m\n\u001b[0;32m      3\u001b[0m     \u001b[1;31m# ....\u001b[0m\u001b[1;33m\u001b[0m\u001b[1;33m\u001b[0m\u001b[1;33m\u001b[0m\u001b[0m\n\u001b[1;32m----> 4\u001b[1;33m     \u001b[1;32mreturn\u001b[0m \u001b[0mname\u001b[0m\u001b[1;33m,\u001b[0m \u001b[0mbirthdate\u001b[0m\u001b[1;33m\u001b[0m\u001b[1;33m\u001b[0m\u001b[0m\n\u001b[0m\u001b[0;32m      5\u001b[0m \u001b[1;33m\u001b[0m\u001b[0m\n\u001b[0;32m      6\u001b[0m \u001b[0mname\u001b[0m\u001b[1;33m,\u001b[0m \u001b[0mbirthdate\u001b[0m \u001b[1;33m=\u001b[0m \u001b[0mget_user\u001b[0m\u001b[1;33m(\u001b[0m\u001b[1;36m4\u001b[0m\u001b[1;33m)\u001b[0m\u001b[1;33m\u001b[0m\u001b[1;33m\u001b[0m\u001b[0m\n",
      "\u001b[1;31mNameError\u001b[0m: name 'birthdate' is not defined"
     ]
    }
   ],
   "metadata": {}
  },
  {
   "cell_type": "code",
   "execution_count": 16,
   "source": [
    ">>> def f(*, a, b):\r\n",
    "...     print(a, b)\r\n",
    "...\r\n",
    "\r\n",
    ">>> f(1, 2)\r\n",
    "\r\n",
    ">>> f(a=1, b=2)\r\n"
   ],
   "outputs": [
    {
     "output_type": "error",
     "ename": "TypeError",
     "evalue": "f() takes 0 positional arguments but 2 were given",
     "traceback": [
      "\u001b[1;31m---------------------------------------------------------------------------\u001b[0m",
      "\u001b[1;31mTypeError\u001b[0m                                 Traceback (most recent call last)",
      "\u001b[1;32m<ipython-input-16-8799f902edeb>\u001b[0m in \u001b[0;36m<module>\u001b[1;34m\u001b[0m\n\u001b[0;32m      3\u001b[0m \u001b[1;33m...\u001b[0m\u001b[1;33m\u001b[0m\u001b[1;33m\u001b[0m\u001b[0m\n\u001b[0;32m      4\u001b[0m \u001b[1;33m\u001b[0m\u001b[0m\n\u001b[1;32m----> 5\u001b[1;33m \u001b[0mf\u001b[0m\u001b[1;33m(\u001b[0m\u001b[1;36m1\u001b[0m\u001b[1;33m,\u001b[0m \u001b[1;36m2\u001b[0m\u001b[1;33m)\u001b[0m\u001b[1;33m\u001b[0m\u001b[1;33m\u001b[0m\u001b[0m\n\u001b[0m\u001b[0;32m      6\u001b[0m \u001b[1;33m\u001b[0m\u001b[0m\n\u001b[0;32m      7\u001b[0m \u001b[0mf\u001b[0m\u001b[1;33m(\u001b[0m\u001b[0ma\u001b[0m\u001b[1;33m=\u001b[0m\u001b[1;36m1\u001b[0m\u001b[1;33m,\u001b[0m \u001b[0mb\u001b[0m\u001b[1;33m=\u001b[0m\u001b[1;36m2\u001b[0m\u001b[1;33m)\u001b[0m\u001b[1;33m\u001b[0m\u001b[1;33m\u001b[0m\u001b[0m\n",
      "\u001b[1;31mTypeError\u001b[0m: f() takes 0 positional arguments but 2 were given"
     ]
    }
   ],
   "metadata": {}
  },
  {
   "cell_type": "code",
   "execution_count": 17,
   "source": [
    ">>> def f(a, b):\r\n",
    "...     print(a, b)\r\n",
    "...\r\n",
    ">>> args = { \"a\": 1, \"b\": 2 }\r\n",
    ">>> f(**args)\r\n"
   ],
   "outputs": [
    {
     "output_type": "stream",
     "name": "stdout",
     "text": [
      "1 2\n"
     ]
    }
   ],
   "metadata": {}
  },
  {
   "cell_type": "code",
   "execution_count": 18,
   "source": [
    "# Write a Python function to find the Max of three numbers.\r\n",
    "def max_of_two( x, y ):\r\n",
    "    if x > y:\r\n",
    "        return x\r\n",
    "    return y\r\n",
    "def max_of_three( x, y, z ):\r\n",
    "    return max_of_two( x, max_of_two( y, z ) )\r\n",
    "print(max_of_three(3, 6, -5))"
   ],
   "outputs": [
    {
     "output_type": "stream",
     "name": "stdout",
     "text": [
      "6\n"
     ]
    }
   ],
   "metadata": {}
  },
  {
   "cell_type": "code",
   "execution_count": 19,
   "source": [
    "# Write a Python function to sum all the numbers in a list\r\n",
    "def sum(numbers):\r\n",
    "    total = 0\r\n",
    "    for x in numbers:\r\n",
    "        total += x\r\n",
    "    return total\r\n",
    "print(sum((8, 2, 3, 0, 7)))"
   ],
   "outputs": [
    {
     "output_type": "stream",
     "name": "stdout",
     "text": [
      "20\n"
     ]
    }
   ],
   "metadata": {}
  },
  {
   "cell_type": "code",
   "execution_count": 20,
   "source": [
    "# Write a Python function to multiply all the numbers in a list.\r\n",
    "def multiply(numbers):  \r\n",
    "    total = 1\r\n",
    "    for x in numbers:\r\n",
    "        total *= x  \r\n",
    "    return total  \r\n",
    "print(multiply((8, 2, 3, -1, 7)))"
   ],
   "outputs": [
    {
     "output_type": "stream",
     "name": "stdout",
     "text": [
      "-336\n"
     ]
    }
   ],
   "metadata": {}
  },
  {
   "cell_type": "code",
   "execution_count": 21,
   "source": [
    "# Write a Python program to reverse a string.\r\n",
    "def string_reverse(str1):\r\n",
    "\r\n",
    "    rstr1 = ''\r\n",
    "    index = len(str1)\r\n",
    "    while index > 0:\r\n",
    "        rstr1 += str1[ index - 1 ]\r\n",
    "        index = index - 1\r\n",
    "    return rstr1\r\n",
    "print(string_reverse('1234abcd'))"
   ],
   "outputs": [
    {
     "output_type": "stream",
     "name": "stdout",
     "text": [
      "dcba4321\n"
     ]
    }
   ],
   "metadata": {}
  },
  {
   "cell_type": "code",
   "execution_count": 22,
   "source": [
    "# Write a Python function to calculate the factorial of a number (a non-negative integer). The function accepts the number as an argument.\r\n",
    "def factorial(n):\r\n",
    "    if n == 0:\r\n",
    "        return 1\r\n",
    "    else:\r\n",
    "        return n * factorial(n-1)\r\n",
    "n=int(input(\"Input a number to compute the factiorial : \"))\r\n",
    "print(factorial(n))"
   ],
   "outputs": [
    {
     "output_type": "stream",
     "name": "stdout",
     "text": [
      "120\n"
     ]
    }
   ],
   "metadata": {}
  },
  {
   "cell_type": "code",
   "execution_count": 23,
   "source": [
    "#  Write a Python function to check whether a number falls in a given range.\r\n",
    "def test_range(n):\r\n",
    "    if n in range(3,9):\r\n",
    "        print( \" %s is in the range\"%str(n))\r\n",
    "    else :\r\n",
    "        print(\"The number is outside the given range.\")\r\n",
    "test_range(5)"
   ],
   "outputs": [
    {
     "output_type": "stream",
     "name": "stdout",
     "text": [
      " 5 is in the range\n"
     ]
    }
   ],
   "metadata": {}
  },
  {
   "cell_type": "code",
   "execution_count": 25,
   "source": [
    "# Write a Python function that accepts a string and calculate the number of upper case letters and lower case letters.\r\n",
    "def string_test(s):\r\n",
    "    d={\"UPPER_CASE\":0, \"LOWER_CASE\":0}\r\n",
    "    for c in s:\r\n",
    "        if c.isupper():\r\n",
    "           d[\"UPPER_CASE\"]+=1\r\n",
    "        elif c.islower():\r\n",
    "           d[\"LOWER_CASE\"]+=1\r\n",
    "        else:\r\n",
    "           pass\r\n",
    "    print (\"Original String : \", s)\r\n",
    "    print (\"No. of Upper case characters : \", d[\"UPPER_CASE\"])\r\n",
    "    print (\"No. of Lower case Characters : \", d[\"LOWER_CASE\"])\r\n",
    "\r\n",
    "string_test('The quick Brown Fox')"
   ],
   "outputs": [
    {
     "output_type": "stream",
     "name": "stdout",
     "text": [
      "Original String :  The quick Brown Fox\n",
      "No. of Upper case characters :  3\n",
      "No. of Lower case Characters :  13\n"
     ]
    }
   ],
   "metadata": {}
  },
  {
   "cell_type": "code",
   "execution_count": 26,
   "source": [
    "# Write a Python function that takes a list and returns a new list with unique elements of the first list.\r\n",
    "def unique_list(l):\r\n",
    "  x = []\r\n",
    "  for a in l:\r\n",
    "    if a not in x:\r\n",
    "      x.append(a)\r\n",
    "  return x\r\n",
    "\r\n",
    "print(unique_list([1,2,3,3,3,3,4,5]))"
   ],
   "outputs": [
    {
     "output_type": "stream",
     "name": "stdout",
     "text": [
      "[1, 2, 3, 4, 5]\n"
     ]
    }
   ],
   "metadata": {}
  },
  {
   "cell_type": "code",
   "execution_count": 27,
   "source": [
    "# Write a Python function that takes a number as a parameter and check the number is prime or not.\r\n",
    "# Note : A prime number (or a prime) is a natural number greater than 1 and that has no positive divisors other than 1 and itself.\r\n",
    "def test_prime(n):\r\n",
    "    if (n==1):\r\n",
    "        return False\r\n",
    "    elif (n==2):\r\n",
    "        return True;\r\n",
    "    else:\r\n",
    "        for x in range(2,n):\r\n",
    "            if(n % x==0):\r\n",
    "                return False\r\n",
    "        return True             \r\n",
    "print(test_prime(9))"
   ],
   "outputs": [
    {
     "output_type": "stream",
     "name": "stdout",
     "text": [
      "False\n"
     ]
    }
   ],
   "metadata": {}
  },
  {
   "cell_type": "code",
   "execution_count": 28,
   "source": [
    "# Print the even numbers from a given list\r\n",
    "def is_even_num(l):\r\n",
    "    enum = []\r\n",
    "    for n in l:\r\n",
    "        if n % 2 == 0:\r\n",
    "            enum.append(n)\r\n",
    "    return enum\r\n",
    "print(is_even_num([1, 2, 3, 4, 5, 6, 7, 8, 9]))"
   ],
   "outputs": [
    {
     "output_type": "stream",
     "name": "stdout",
     "text": [
      "[2, 4, 6, 8]\n"
     ]
    }
   ],
   "metadata": {}
  },
  {
   "cell_type": "code",
   "execution_count": 29,
   "source": [
    "# Write a Python function to check whether a number is perfect or not.\r\n",
    "\r\n",
    "# According to Wikipedia : In number theory, a perfect number is a positive integer that is equal to the sum of its proper positive divisors, that is, the sum of its positive divisors excluding the number itself (also known as its aliquot sum). Equivalently, a perfect number is a number that is half the sum of all of its positive divisors (including itself).\r\n",
    "# Example : The first perfect number is 6, because 1, 2, and 3 are its proper positive divisors, and 1 + 2 + 3 = 6. Equivalently, the number 6 is equal to half the sum of all its positive divisors: ( 1 + 2 + 3 + 6 ) / 2 = 6. The next perfect number is 28 = 1 + 2 + 4 + 7 + 14. This is followed by the perfect numbers 496 and 8128.\r\n",
    "\r\n",
    "def perfect_number(n):\r\n",
    "    sum = 0\r\n",
    "    for x in range(1, n):\r\n",
    "        if n % x == 0:\r\n",
    "            sum += x\r\n",
    "    return sum == n\r\n",
    "print(perfect_number(6))\r\n"
   ],
   "outputs": [
    {
     "output_type": "stream",
     "name": "stdout",
     "text": [
      "True\n"
     ]
    }
   ],
   "metadata": {}
  },
  {
   "cell_type": "code",
   "execution_count": 30,
   "source": [
    "# Write a Python function that checks whether a passed string is palindrome or not.\r\n",
    "\r\n",
    "# Note: A palindrome is a word, phrase, or sequence that reads the same backward as forward, e.g., madam or nurses run.\r\n",
    "def isPalindrome(string):\r\n",
    "\tleft_pos = 0\r\n",
    "\tright_pos = len(string) - 1\r\n",
    "\t\r\n",
    "\twhile right_pos >= left_pos:\r\n",
    "\t\tif not string[left_pos] == string[right_pos]:\r\n",
    "\t\t\treturn False\r\n",
    "\t\tleft_pos += 1\r\n",
    "\t\tright_pos -= 1\r\n",
    "\treturn True\r\n",
    "print(isPalindrome('aza')) "
   ],
   "outputs": [
    {
     "output_type": "stream",
     "name": "stdout",
     "text": [
      "True\n"
     ]
    }
   ],
   "metadata": {}
  },
  {
   "cell_type": "code",
   "execution_count": 31,
   "source": [
    "# Write a Python function that prints out the first n rows of Pascal's triangle.\r\n",
    "\r\n",
    "# Note : Pascal's triangle is an arithmetic and geometric figure first imagined by Blaise Pascal.\r\n",
    "def pascal_triangle(n):\r\n",
    "   trow = [1]\r\n",
    "   y = [0]\r\n",
    "   for x in range(max(n,0)):\r\n",
    "      print(trow)\r\n",
    "      trow=[l+r for l,r in zip(trow+y, y+trow)]\r\n",
    "   return n>=1\r\n",
    "pascal_triangle(6) "
   ],
   "outputs": [
    {
     "output_type": "stream",
     "name": "stdout",
     "text": [
      "[1]\n",
      "[1, 1]\n",
      "[1, 2, 1]\n",
      "[1, 3, 3, 1]\n",
      "[1, 4, 6, 4, 1]\n",
      "[1, 5, 10, 10, 5, 1]\n"
     ]
    },
    {
     "output_type": "execute_result",
     "data": {
      "text/plain": [
       "True"
      ]
     },
     "metadata": {},
     "execution_count": 31
    }
   ],
   "metadata": {}
  },
  {
   "cell_type": "code",
   "execution_count": 32,
   "source": [
    "# Write a Python function to check whether a string is a pangram or not.\r\n",
    "\r\n",
    "# Note : Pangrams are words or sentences containing every letter of the alphabet at least once.\r\n",
    "# For example : \"The quick brown fox jumps over the lazy dog\"\r\n",
    "import string, sys\r\n",
    "def ispangram(str1, alphabet=string.ascii_lowercase):\r\n",
    "    alphaset = set(alphabet)\r\n",
    "    return alphaset <= set(str1.lower())\r\n",
    " \r\n",
    "print ( ispangram('The quick brown fox jumps over the lazy dog')) "
   ],
   "outputs": [
    {
     "output_type": "stream",
     "name": "stdout",
     "text": [
      "True\n"
     ]
    }
   ],
   "metadata": {}
  },
  {
   "cell_type": "code",
   "execution_count": 34,
   "source": [
    "#Write a Python program that accepts a hyphen-separated sequence of words as input and prints the words in a hyphen-separated sequence after sorting them alphabetically.\r\n",
    "\r\n",
    "items=[n for n in input().split('-')]\r\n",
    "items.sort()\r\n",
    "print('-'.join(items))"
   ],
   "outputs": [
    {
     "output_type": "stream",
     "name": "stdout",
     "text": [
      "black-green-red-white\n"
     ]
    }
   ],
   "metadata": {}
  },
  {
   "cell_type": "code",
   "execution_count": 35,
   "source": [
    "# Write a Python function to create and print a list where the values are square of numbers between 1 and 30 (both included)\r\n",
    "def printValues():\r\n",
    "\tl = list()\r\n",
    "\tfor i in range(1,21):\r\n",
    "\t\tl.append(i**2)\r\n",
    "\tprint(l)\r\n",
    "\t\t\r\n",
    "printValues()"
   ],
   "outputs": [
    {
     "output_type": "stream",
     "name": "stdout",
     "text": [
      "[1, 4, 9, 16, 25, 36, 49, 64, 81, 100, 121, 144, 169, 196, 225, 256, 289, 324, 361, 400]\n"
     ]
    }
   ],
   "metadata": {}
  },
  {
   "cell_type": "code",
   "execution_count": 36,
   "source": [
    "# Write a Python program to make a chain of function decorators (bold, italic, underline etc.).\r\n",
    "def make_bold(fn):\r\n",
    "    def wrapped():\r\n",
    "        return \"<b>\" + fn() + \"</b>\"\r\n",
    "    return wrapped\r\n",
    "\r\n",
    "def make_italic(fn):\r\n",
    "    def wrapped():\r\n",
    "        return \"<i>\" + fn() + \"</i>\"\r\n",
    "    return wrapped\r\n",
    "\r\n",
    "def make_underline(fn):\r\n",
    "    def wrapped():\r\n",
    "        return \"<u>\" + fn() + \"</u>\"\r\n",
    "    return wrapped\r\n",
    "@make_bold\r\n",
    "@make_italic\r\n",
    "@make_underline\r\n",
    "def hello():\r\n",
    "    return \"hello world\"\r\n",
    "print(hello()) ## returns \"<b><i><u>hello world</u></i></b>\""
   ],
   "outputs": [
    {
     "output_type": "stream",
     "name": "stdout",
     "text": [
      "<b><i><u>hello world</u></i></b>\n"
     ]
    }
   ],
   "metadata": {}
  },
  {
   "cell_type": "code",
   "execution_count": 38,
   "source": [
    "# Write a Python program to execute a string containing Python code.\r\n",
    "mycode = 'print(\"hello world\")'\r\n",
    "code = \"\"\"\r\n",
    "def multiply(x,y):\r\n",
    "    return x*y\r\n",
    "\r\n",
    "print('Multiply of 2 and 3 is: ',multiply(2,3))\r\n",
    "\"\"\"\r\n",
    "exec(mycode)\r\n",
    "exec(code)"
   ],
   "outputs": [
    {
     "output_type": "stream",
     "name": "stdout",
     "text": [
      "hello world\n",
      "Multiply of 2 and 3 is:  6\n"
     ]
    }
   ],
   "metadata": {}
  },
  {
   "cell_type": "code",
   "execution_count": 39,
   "source": [
    "# Write a Python program to access a function inside a function.\r\n",
    "def test(a):\r\n",
    "        def add(b):\r\n",
    "                nonlocal a\r\n",
    "                a += 1\r\n",
    "                return a+b\r\n",
    "        return add\r\n",
    "func= test(4)\r\n",
    "print(func(4))"
   ],
   "outputs": [
    {
     "output_type": "stream",
     "name": "stdout",
     "text": [
      "9\n"
     ]
    }
   ],
   "metadata": {}
  },
  {
   "cell_type": "code",
   "execution_count": 40,
   "source": [
    "# Write a Python program to detect the number of local variables declared in a function.\r\n",
    "def abc():\r\n",
    "    x = 1\r\n",
    "    y = 2\r\n",
    "    str1= \"w3resource\"\r\n",
    "    print(\"Python Exercises\")\r\n",
    "\r\n",
    "print(abc.__code__.co_nlocals)"
   ],
   "outputs": [
    {
     "output_type": "stream",
     "name": "stdout",
     "text": [
      "3\n"
     ]
    }
   ],
   "metadata": {}
  },
  {
   "cell_type": "code",
   "execution_count": 41,
   "source": [
    "# Write a Python program that invoke a given function after specific milliseconds.\r\n",
    "from time import sleep\r\n",
    "import math\r\n",
    "def delay(fn, ms, *args):\r\n",
    "  sleep(ms / 1000)\r\n",
    "  return fn(*args)\r\n",
    "print(\"Square root after specific miliseconds:\") \r\n",
    "print(delay(lambda x: math.sqrt(x), 100, 16))\r\n",
    "print(delay(lambda x: math.sqrt(x), 1000, 100))\r\n",
    "print(delay(lambda x: math.sqrt(x), 2000, 25100))"
   ],
   "outputs": [
    {
     "output_type": "stream",
     "name": "stdout",
     "text": [
      "Square root after specific miliseconds:\n",
      "4.0\n",
      "10.0\n",
      "158.42979517754858\n"
     ]
    }
   ],
   "metadata": {}
  },
  {
   "cell_type": "code",
   "execution_count": null,
   "source": [],
   "outputs": [],
   "metadata": {}
  }
 ],
 "metadata": {
  "orig_nbformat": 4,
  "language_info": {
   "name": "python",
   "version": "3.8.8",
   "mimetype": "text/x-python",
   "codemirror_mode": {
    "name": "ipython",
    "version": 3
   },
   "pygments_lexer": "ipython3",
   "nbconvert_exporter": "python",
   "file_extension": ".py"
  },
  "kernelspec": {
   "name": "python3",
   "display_name": "Python 3.8.8 64-bit ('base': conda)"
  },
  "interpreter": {
   "hash": "37eb40c3388cfde35488e2d005b0d69ca91ddeff8a429754d4da636d3f888e5e"
  }
 },
 "nbformat": 4,
 "nbformat_minor": 2
}